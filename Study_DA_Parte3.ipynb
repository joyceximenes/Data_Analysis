{
  "nbformat": 4,
  "nbformat_minor": 0,
  "metadata": {
    "colab": {
      "provenance": [],
      "toc_visible": true
    },
    "kernelspec": {
      "name": "python3",
      "display_name": "Python 3"
    },
    "language_info": {
      "name": "python"
    }
  },
  "cells": [
    {
      "cell_type": "markdown",
      "source": [
        "# ESTATISTICA DESCRITIVA"
      ],
      "metadata": {
        "id": "oLN9yFfib4mP"
      }
    },
    {
      "cell_type": "code",
      "source": [
        "import pandas as pd\n",
        "import seaborn as sns\n",
        "import matplotlib.pyplot as plt\n",
        "import warnings \n",
        "warnings.filterwarnings('ignore')"
      ],
      "metadata": {
        "id": "6e9IYB-ffd2Q"
      },
      "execution_count": null,
      "outputs": []
    },
    {
      "cell_type": "markdown",
      "source": [
        "# MEDIDAS DE TENDENCIA CENTRAL"
      ],
      "metadata": {
        "id": "XK4o10mrb3zv"
      }
    },
    {
      "cell_type": "code",
      "source": [],
      "metadata": {
        "id": "clhbHwzBYIqP"
      },
      "execution_count": null,
      "outputs": []
    },
    {
      "cell_type": "code",
      "source": [
        "dados = sns.load_dataset('iris') #dataset do seaborn\n",
        "dados.head()"
      ],
      "metadata": {
        "colab": {
          "base_uri": "https://localhost:8080/",
          "height": 206
        },
        "id": "vvd42p4rYyiw",
        "outputId": "5fccf9ab-2912-4cb4-ba36-c695ec943a4e"
      },
      "execution_count": null,
      "outputs": [
        {
          "output_type": "execute_result",
          "data": {
            "text/plain": [
              "   sepal_length  sepal_width  petal_length  petal_width species\n",
              "0           5.1          3.5           1.4          0.2  setosa\n",
              "1           4.9          3.0           1.4          0.2  setosa\n",
              "2           4.7          3.2           1.3          0.2  setosa\n",
              "3           4.6          3.1           1.5          0.2  setosa\n",
              "4           5.0          3.6           1.4          0.2  setosa"
            ],
            "text/html": [
              "\n",
              "  <div id=\"df-f9c44099-4dea-4477-8e6e-352d615a4f3b\">\n",
              "    <div class=\"colab-df-container\">\n",
              "      <div>\n",
              "<style scoped>\n",
              "    .dataframe tbody tr th:only-of-type {\n",
              "        vertical-align: middle;\n",
              "    }\n",
              "\n",
              "    .dataframe tbody tr th {\n",
              "        vertical-align: top;\n",
              "    }\n",
              "\n",
              "    .dataframe thead th {\n",
              "        text-align: right;\n",
              "    }\n",
              "</style>\n",
              "<table border=\"1\" class=\"dataframe\">\n",
              "  <thead>\n",
              "    <tr style=\"text-align: right;\">\n",
              "      <th></th>\n",
              "      <th>sepal_length</th>\n",
              "      <th>sepal_width</th>\n",
              "      <th>petal_length</th>\n",
              "      <th>petal_width</th>\n",
              "      <th>species</th>\n",
              "    </tr>\n",
              "  </thead>\n",
              "  <tbody>\n",
              "    <tr>\n",
              "      <th>0</th>\n",
              "      <td>5.1</td>\n",
              "      <td>3.5</td>\n",
              "      <td>1.4</td>\n",
              "      <td>0.2</td>\n",
              "      <td>setosa</td>\n",
              "    </tr>\n",
              "    <tr>\n",
              "      <th>1</th>\n",
              "      <td>4.9</td>\n",
              "      <td>3.0</td>\n",
              "      <td>1.4</td>\n",
              "      <td>0.2</td>\n",
              "      <td>setosa</td>\n",
              "    </tr>\n",
              "    <tr>\n",
              "      <th>2</th>\n",
              "      <td>4.7</td>\n",
              "      <td>3.2</td>\n",
              "      <td>1.3</td>\n",
              "      <td>0.2</td>\n",
              "      <td>setosa</td>\n",
              "    </tr>\n",
              "    <tr>\n",
              "      <th>3</th>\n",
              "      <td>4.6</td>\n",
              "      <td>3.1</td>\n",
              "      <td>1.5</td>\n",
              "      <td>0.2</td>\n",
              "      <td>setosa</td>\n",
              "    </tr>\n",
              "    <tr>\n",
              "      <th>4</th>\n",
              "      <td>5.0</td>\n",
              "      <td>3.6</td>\n",
              "      <td>1.4</td>\n",
              "      <td>0.2</td>\n",
              "      <td>setosa</td>\n",
              "    </tr>\n",
              "  </tbody>\n",
              "</table>\n",
              "</div>\n",
              "      <button class=\"colab-df-convert\" onclick=\"convertToInteractive('df-f9c44099-4dea-4477-8e6e-352d615a4f3b')\"\n",
              "              title=\"Convert this dataframe to an interactive table.\"\n",
              "              style=\"display:none;\">\n",
              "        \n",
              "  <svg xmlns=\"http://www.w3.org/2000/svg\" height=\"24px\"viewBox=\"0 0 24 24\"\n",
              "       width=\"24px\">\n",
              "    <path d=\"M0 0h24v24H0V0z\" fill=\"none\"/>\n",
              "    <path d=\"M18.56 5.44l.94 2.06.94-2.06 2.06-.94-2.06-.94-.94-2.06-.94 2.06-2.06.94zm-11 1L8.5 8.5l.94-2.06 2.06-.94-2.06-.94L8.5 2.5l-.94 2.06-2.06.94zm10 10l.94 2.06.94-2.06 2.06-.94-2.06-.94-.94-2.06-.94 2.06-2.06.94z\"/><path d=\"M17.41 7.96l-1.37-1.37c-.4-.4-.92-.59-1.43-.59-.52 0-1.04.2-1.43.59L10.3 9.45l-7.72 7.72c-.78.78-.78 2.05 0 2.83L4 21.41c.39.39.9.59 1.41.59.51 0 1.02-.2 1.41-.59l7.78-7.78 2.81-2.81c.8-.78.8-2.07 0-2.86zM5.41 20L4 18.59l7.72-7.72 1.47 1.35L5.41 20z\"/>\n",
              "  </svg>\n",
              "      </button>\n",
              "      \n",
              "  <style>\n",
              "    .colab-df-container {\n",
              "      display:flex;\n",
              "      flex-wrap:wrap;\n",
              "      gap: 12px;\n",
              "    }\n",
              "\n",
              "    .colab-df-convert {\n",
              "      background-color: #E8F0FE;\n",
              "      border: none;\n",
              "      border-radius: 50%;\n",
              "      cursor: pointer;\n",
              "      display: none;\n",
              "      fill: #1967D2;\n",
              "      height: 32px;\n",
              "      padding: 0 0 0 0;\n",
              "      width: 32px;\n",
              "    }\n",
              "\n",
              "    .colab-df-convert:hover {\n",
              "      background-color: #E2EBFA;\n",
              "      box-shadow: 0px 1px 2px rgba(60, 64, 67, 0.3), 0px 1px 3px 1px rgba(60, 64, 67, 0.15);\n",
              "      fill: #174EA6;\n",
              "    }\n",
              "\n",
              "    [theme=dark] .colab-df-convert {\n",
              "      background-color: #3B4455;\n",
              "      fill: #D2E3FC;\n",
              "    }\n",
              "\n",
              "    [theme=dark] .colab-df-convert:hover {\n",
              "      background-color: #434B5C;\n",
              "      box-shadow: 0px 1px 3px 1px rgba(0, 0, 0, 0.15);\n",
              "      filter: drop-shadow(0px 1px 2px rgba(0, 0, 0, 0.3));\n",
              "      fill: #FFFFFF;\n",
              "    }\n",
              "  </style>\n",
              "\n",
              "      <script>\n",
              "        const buttonEl =\n",
              "          document.querySelector('#df-f9c44099-4dea-4477-8e6e-352d615a4f3b button.colab-df-convert');\n",
              "        buttonEl.style.display =\n",
              "          google.colab.kernel.accessAllowed ? 'block' : 'none';\n",
              "\n",
              "        async function convertToInteractive(key) {\n",
              "          const element = document.querySelector('#df-f9c44099-4dea-4477-8e6e-352d615a4f3b');\n",
              "          const dataTable =\n",
              "            await google.colab.kernel.invokeFunction('convertToInteractive',\n",
              "                                                     [key], {});\n",
              "          if (!dataTable) return;\n",
              "\n",
              "          const docLinkHtml = 'Like what you see? Visit the ' +\n",
              "            '<a target=\"_blank\" href=https://colab.research.google.com/notebooks/data_table.ipynb>data table notebook</a>'\n",
              "            + ' to learn more about interactive tables.';\n",
              "          element.innerHTML = '';\n",
              "          dataTable['output_type'] = 'display_data';\n",
              "          await google.colab.output.renderOutput(dataTable, element);\n",
              "          const docLink = document.createElement('div');\n",
              "          docLink.innerHTML = docLinkHtml;\n",
              "          element.appendChild(docLink);\n",
              "        }\n",
              "      </script>\n",
              "    </div>\n",
              "  </div>\n",
              "  "
            ]
          },
          "metadata": {},
          "execution_count": 6
        }
      ]
    },
    {
      "cell_type": "markdown",
      "source": [
        "**media aritmetica**"
      ],
      "metadata": {
        "id": "GZ_mHDrScJaO"
      }
    },
    {
      "cell_type": "code",
      "source": [
        "dados['petal_length'].mean() #media dessa coluna"
      ],
      "metadata": {
        "colab": {
          "base_uri": "https://localhost:8080/"
        },
        "outputId": "63a1cb45-c92a-4c98-ac0f-5d18373293dc",
        "id": "VWaPgJhscSgI"
      },
      "execution_count": null,
      "outputs": [
        {
          "output_type": "execute_result",
          "data": {
            "text/plain": [
              "3.7580000000000005"
            ]
          },
          "metadata": {},
          "execution_count": 6
        }
      ]
    },
    {
      "cell_type": "markdown",
      "source": [
        "**moda**"
      ],
      "metadata": {
        "id": "2VtL9Ef4cT66"
      }
    },
    {
      "cell_type": "code",
      "source": [
        "dados['petal_length'].mode()"
      ],
      "metadata": {
        "colab": {
          "base_uri": "https://localhost:8080/"
        },
        "id": "svjJAuqrZtAv",
        "outputId": "c32d26d0-d25c-415f-91c7-1145972adbda"
      },
      "execution_count": null,
      "outputs": [
        {
          "output_type": "execute_result",
          "data": {
            "text/plain": [
              "0    1.4\n",
              "1    1.5\n",
              "dtype: float64"
            ]
          },
          "metadata": {},
          "execution_count": 9
        }
      ]
    },
    {
      "cell_type": "markdown",
      "source": [
        "**mediana**"
      ],
      "metadata": {
        "id": "F3iwJb8OcXK6"
      }
    },
    {
      "cell_type": "code",
      "source": [
        "dados['petal_length'].median()"
      ],
      "metadata": {
        "colab": {
          "base_uri": "https://localhost:8080/"
        },
        "id": "6c8HalZcbKzY",
        "outputId": "038ec595-9cd4-4d58-c44d-630463d7f44b"
      },
      "execution_count": null,
      "outputs": [
        {
          "output_type": "execute_result",
          "data": {
            "text/plain": [
              "4.35"
            ]
          },
          "metadata": {},
          "execution_count": 12
        }
      ]
    },
    {
      "cell_type": "markdown",
      "source": [
        "# MEDIDAS SEPARATRIZES"
      ],
      "metadata": {
        "id": "ZiovbIspb5xz"
      }
    },
    {
      "cell_type": "markdown",
      "source": [
        "Estas medidas são valores que ocupam posições no conjunto de dados, em rol, dividindo-o em partes iguais e podem ser:\n",
        "\n",
        "Quartil: Os quartis dividem o conjunto de dados em quatro partes iguais. \n",
        "![image.png](data:image/png;base64,iVBORw0KGgoAAAANSUhEUgAAAr0AAACyCAIAAADAj+BzAAAgAElEQVR4nOydeUBN2R/Az71va9W+SVF2Ik0lJJSQVBSDyChbDMPMbxiMNdswY8uaxDDIkkLZK0kiFSmpUFTaU732t9x7z++P19579732cD9/1bv3nO/3fM/3nXPeved8vwiEEAioSvRZ5LT62odqIGW47uHTfRZyoBm83LhH0bmKhuNH9ZEtTQqPQ4ZbDFaiCS7lJ0REZ8kMGz+6jyyoTIt4ktNzrEVf+drKP8dGvMym6ZlZGCplPX1S3n/8CA1m8/obws178zw2rVy617CRP/SRR8lvBpzsuKevcqUGjBo9UJkm5t56iOK3jyILeo0bP0hBnACJqiv/+CIiPg/paWRh2kdOUCP+Ofk9UxlNT3yfXSGlM2KUaW/5BiWwwrdPo9L4GgamxvqKkutdXzzx1rZFx3t6+28coVRfnLwvWmZaMT0nvCryRjdrw5NnaUQfMwtDdfbJKbq/vFt0/8NJa1ZNU1rrcULg5MY9fV3d12KMXnPXllxj3svtYywDp0VEexjSJTNUm74abTVwi61ESsu1ITN6C1UkbzSevMd85OUJD2L2jpECAACCnfI4IkfLYsJgxfb4blNQUNSC1K8bAABE4dPDq5Z5XE/h9F98NdRrhnbLZzKKToX3cuuosZ7YkoshnvbqX/3wSOQ3Wzd0Ryoi/5yw9MuOZ962il2tCkUtVU9/H7MKHgo/aKnQ1apQUHzjNJ5qULWx/7sa9+bhwYU9w9wnLzjyJJvXRXpRSAbUsnObKp9yNziJ39WqtAcEAQGABN7VepAjZ77d94/qo9vvFxFdrQqFgMoXBw5mLb2wh1o0UFB0PEJ+orJ0J/7q/ej9u4Alyq/O/XPgxIUnmd18HP9uqUyLeR7zpkjrx43Lx3Tj3+cSU56c8pkg2B/fd/f1KnOA65kTlnEHjoRmY12ty3cPnv/M5+/QQX+dXzlMqqt1oaD4Hmj8noLiKwOrKq0EsgoydPG3dneI4vjbt17kcHAIEIQuO2jiggn6Xa2TOPDitHS8b1+1rtbju4YoTPuI9umnQr1TpaDoJGrWDR4eHl2tCQUFBQUFBUU3Ytu2bc0/pJNfpmiOh4fH92mr77bhFBQUkkMNFN8Moh4ofPVb8CkoKCgoKCg6DWrdQEFBQUFBQSEp3+66Aa9kl3fzXfkUFBQUFF8j3/UEI34jPpHz4sb9Fx9ySvnCDl4gzMGOv88a2oH7+StiLx29/4kxcPqKH4fJSlyq+KrLIJegAbtePF7fkco1BM957nfzaVoxh4Coyuif3K11Gu7wrkwJDngUn1lcTQCGgvaQcXZ2I9S+3UUbRbtBFMcH+QUnFlYTEAAEYSn2GjR2GuU8FBTiwNOfXH34Mr2gAocAAARBaUxpBXW9YWMsxwxoRXDeRnTBBNOtgBBCCLdv3w7JKL7n3pcOaH1+OhcVU8uLiLtn1ozpaedTQloUQghhdUE+Gxd/m5Bb2dec1Zi6s86+47aoIJ4fefbvI7dTOZIJbQlktuIXvDg5b4A0giqO++tVZTMN43eYyfRddrdIUlEtMJsoSqI8f5pgMnKS6+7AD5UQYh+uXYkUa0rhiHMSio4CL37y+zAGAPTBv4aXSVyqHbyn3ehenkzRoXSngQLLPDtDFQX0/gtOPXwaEXz574VGigxlQ1efN82G5xbRggnma3ZcUV0p4a8WJWOjvjSAMFX7GZnUMnLs1EX7PZfpccrERc0jsi9u3h8tUUDDpreWBgcm/LD31nm3AWKyWTQpiKqPcVv3y7S+nRwNia42crn3FhspyI7YPu/3OwWNLSM1cKRhz2FjxipLVlkLzCYKPOXcqSiNkUNoib6bp48YOs5xxqJbZb2+x/XxVw2qZGw2VBZBpIeamUiaWaIdvKfdoDyZooug9TQz7kMDiPLgcVbmY63nrjt779Qs6cTzKxxWBxW3oV6JJ5hv03ElfdrJoAttKd3I1d1KXEoo9qO/DgSXShSSt+mtWAZh7X35txEyLS3YhSAIqmlq3h+8O714sc/7xuEEmUwpJlPCJ2Tt0SS8YrDLob37zj99G315x0+jtdXN/9zjpks94v7qQBkMGoIwWCxJ+64bfSEoT6boQpgMRsN/UY3pi+x7ovz0a2dvl3SC+G/Tcdu07sE4HNB76OC6//Hit8H3nn/GlPoaDpauxA3Mh8mD0tjDLq6nPoD5ZXm5eSwpRU0lKQB4+fGPwl5msKGC3kiricPUBVoIuZU+fNaM94+v3tWYbjtUqkUyiNL3j+99UHeYZlC/5iAqPj0Pjkj6AjRGTJxiql2/VBSuT6tBZEdtOzNrj82GO7/P3z7k0a6xZL8ROdkxoU/e5PGVBphbmfetXYMJNRu5nsJaxzSZYsXLj78f9jKDrTVu4fTmjRMunqL7w8uPexhRPtxxnC7nY/idJxnSI2xsR6jTABDlPQDgxcnhIVFp5VK6ZpOtDeoiLPIKEoLDSwycRqEvgkI/KVs4WvWVqfr8/MFrKctpRoz08DvhaYSuuY3lwLrEksJKiBBAeTJF94KmoamOgs/c4i+lBFCq8RPR3iNsxgFA4gnm23TctijJDfc88oxb+x+W7PXjtI2RPBVV9MN5N3PLDQ8KcaLk2eVriVU0CMviLu/bvfvv6294eMa1pSamy2+XKmkpFF5fNXKI1Z5oDgBCbq14f+eA+9i+Q6wXHnla3gIZrxJryx0Kr/uVg2ff3mDvuCOyWlEVj/SwHmKy9FoGDgAAIvRpGwhrxO//nZiry33594Kfr2WL+KlF5D3YMnWC+7UspopUjv8qk/6jV/unY0JtwSPXU1TrSAuJEk/RzSGKY323zx6hbzzjt0uxUZ5OpmPn/rxy0fSRo91vFRLCvQcAXtqVNT/+ciEV6QHen1lsMshiY3ABQRTF+HrMNtQb4bD6xNkt0ybYuSxaYOf6557frAf0NZ+zO+jZuXkmZjOWui9xnmQ4Ytapt1wgrIT9ivM5hFABGOXJFN2N6g8fPuOAptp/kCCDMJn3CJtxAO99CyaYb9Rxybc/1FHiY8sCtN7zvR9HREREREQ8eRTk89t4418e1e4L4dxbqjt4bc1+DyztqK3t/jQMQgjx7KNWTFqvZfcFd3LD1/SjsyZ7FUAIIZ51xLLBtSa3Qghh2UUneYQ1RXC7pDJqyzEnHssRbMbivNo1WnPcP8kYhBDCLz7TZBCajvtDDrk+LdsqUkvlxVkGa8K5EEJ2+IYfZBFU2XJ/fLVAjUerDGb71mzIwd4dm6yq6xZYs60USz9tp0KTMd4SVSmsSWR6imwdWSFy8a1pOEXHUX1jgQqKKs8PqK75AEvebcZAewyxX3cmpgiD/A+HreRQ6YlHM3EIhXwhONHbRo/eFF1Tuvi6ixZK01kcxIYQYqn7xjAQhvb0k0nVWEVOanoxBjkhK3rTaFrG8/c8zOJAfs69303kUUR+/IEUTFQJ4QKE6NINPJmiQ+lWAwX2Ye9oBmCY7RE4FV4Qtt5UDkEVx+59zYVQjPeInHEknmC+csdt477ImjVGdU5i1HMBz54/j/1YXn80E2eXsFNvevmncQAANP15q5z7SSNC6qDrjXVwmOc4WgkAAPgYymQQ7KJikQk3GYpKcnXVSCqjaTlQcuvvw6+Hzp43QPBkVsnG/deZdg4WevQW69MiFMZ5XPpnqir78eZ5fzxomnO5MuTA34+ghZ2VouB/Wm+XX+focOOO7fMvFFIXiZ6iW0dSiER8u7SdomNBFBXlEUR+9Iodi0yUaYCuN8V6KI2fkSb810rlgxM+nzUVs4ODgoKCgoIiyqRVaHjOg6AoAABNUVEeRVRtlroOlqLJavXtrUQDiLSsFIL2tF+/bpI2C9C1bHZ5LhtAK3/mezUZE1pClAAhulCeTNHpEJm3d65Ytni+vdkPM3xKTRcdvh2wzpAJyIdhgmTGkXSCaZ3jFnaPjUmiadGbfFTRaPZv68xrTzasHL7+YJ3ppCYumNMnyMfFKOq/xes2r1s41WW68Dp0Zh3wn4UXv77icfxGCuDnEwDDRU/TCA1FWyyjaTnuq/DnbOmxPZVrVkmotv1uP/uaiy3Tp4UwB7mf9YkbN8vnxKKlI574za+/wou9E5INVDQ16zftSJlZmMqf9I8KjwELbJvWJNpuZK0TWYhMPAAL2qv9FB0GiqIAILRaL0cUFeQRmMvhCouygiW/iC0E+uX5eXk1TmK6+rgpwtDvX1cTAM1X4HQmo/ZDKeNpE3UOv0tNSuYBA3qzEiIFCFOc8mSKzgbVtdtycuMAvIoDpGSY9b+WSYdh3gIbkTOOxBNMqxw3hrfAtlvnhG/L/oYek5e7DattNKrmcDIi5Mii4VVhnu7jhpgsPJtYJbwY592VXyytN70buen8ZU/ngS04KSm5jMbgJcWlBKeUXd3O+kgCqmF/+OKWMXJ5N3+dvyO6Xl0sN7eAgBiP12CcZ2r3VKXBitKyFulJ2jpRhcjEt76xFF0HggAAhC0aAAB4SVEphJpjXJc2ZInrRMkzldN1dDRRgGPCX76KFCD0bsqTKboElCnTcNEAxAzDhKQzTrs7rtjQBl1NW9YNqJKengoKyuNfvKkCAACaxthVp5+mxPtvspZPubBi3u5oIYXKQ9Y5uN0etPvKtql9WrGiai5DglCfNEXFHgg37mlkRYMPiYLk5HyirfpIgozpxotHnXpWR/+1YMuT2lc7NFVVZZTI+/SxoU40Og3QeunrCalEtJ4krSMpRCK+LW2l6I4gPRTkYH7k4/hGX5bylKQMyevAIQQ0LV0doU8oRQoQci/lyRTdBtJhmA6AZDOOaMcl83axorsxkq4bIBTxU4Ybd/TkY8gEnAdnzqfiAAC5gY47b1xa2Z949+w5AKDmaSYkBOW5z/xupBH6ww0bhYyurbvRrc0RKiOfEFuQZTjaWB7mXN/v9ba2z4mCu//8+xpFyfVpFRASTa1F67PA+7/Vw+iZcW9qtzmwTCePV0c4UQ9D6qOPYHl5XxD9qfYjQLMmkegpunV8kkIk4tvSeIoOgiAgybewGY29hzl0lLEykXxq49GEuq3cVS+PHr1TTloJn1v/W4j74X0G6Gk52Uho/DWRAprrQnkyRaeCQwgAEPHNIR2GRcxq+c0eBoh2XDJvJxfdvZFw3UCUllVCAHlcXiPzE/nBG93vak4dQgdE0cND/zyo2c/B0umlQdccNAQAAFAZeTkaUfw+MaMqP+L202opaQSLveL9ooRXFPvv5pPPqwBRWpyT+jw2G29865M8AgDI5/Mh5PH4BADCZaihTWU8ySME5QDGF3SjmtNqt4GM8ieb7ab/ceJqwBWvzXNsdgM7BzWAyEiL1qdVFiXYJWx2abMoN0pWey7tmahSb28F+w3rxvcoDjp47GXNUMt+dDdSyn7TmjGsZmZ7ki8lWk9lUa0jaxyJ+FY1m6JDqWKzqyHkVpbXnXuu5nABxHGs9guJ4wSAGF+wv6HpF0LGdvVyIyl22IZJlkv2ng8IuHR4jb174ph5QwAAgI/hEFRXVDR9BYF/intZE/GUyL35333+hHX/myQrvIScCAHNdaE8maIzwUtKSiGA5Wy20PGcfBgWOeNIOsGQOa4c+QzQvSE/bgEhxLOfXz78x7S+LAQAVHmYzY9zBcyZaTd+sAqDYbT1NR9CWHnJSRaV6z9tzT6v04d+nWJstfFuruCICpbmNVUFRRCG/JDFfpnV8QcnqtMRBGHID3A8EBGywYCBoHKD3S6l8ZveysuKvLDdTocGUMWRK47dS5ZUxqfM2nIKpsuP3UuuhBDCykQflyE9UAQAgNBVTd0vJAmOjHHJ9GnR0RQI8YJXt87smjNYmqZqvvLwfw+Typua8rrr8LmX607Z4Ln3N0/sJdfLcvV+H58DvzpOdvGMqkv20dgWOLmeIlpHXohUfIsaTtFx4EWvb/+7b6GhPAIAKj9s3s7Tt+LSk+4fdzfpgSL03vbbzoR+yH196/jKUYoooOnab78QmdXMeyCE3LSrP5uo0BEAAEAYWpZbQwtwCMsSA48sH6WIAkRuqPMuv7hiwfeJG7l2IJ2mMcjM6qetx89671k0eojlxns5OBRZQpQA2B09maJD6S4DBfbpyaUT6ydp0xGA0LUnbzh5KfyjkFGdxHuEzzhYVuMJRnDrN+m4orpS0vgNYsEyk5Ly8lKiQgL9bz6MTm+cfac651Xw3ciPNdMoNy8+JPDOs08VEEJYkfrk7pPUMhG3tlqGUPgFiWGBtx6+SCvBGn5Mqk9z2mSryqzMgsb5fTi5CWFBNwJDYj6VNU3806RJYvTkF7y5vsLUcmdcccPWiWscifimdJfhgEIihHwh8LK0Z3cCAu5GfSon72xu5NqBdIbZ7sT8pPBA/xv3ozMqJJIpSkA382SKDuVrHCiEew/pjNOcb89xO3zd8P3QbW3Fjd1iJNVj2KrA/I5xv27bcIr2pmbdUBMrp/PFd7AnU3Qo3+9A8c05brvEfaLo1kAtO7ep8il3g5O6RxZEiq8Y2KJtmO0tnPJkiq+R78ZxqXXDt0JlWszzmDdFWj9uXP4VbKuh6M5ghe8/FhFEzrvk4i44SE55MsVXyXfkuN39nCiFpMj2/sHa5YfpK2WoLqVoC1XvQ/2fcCbvPDYJIIWBVyMnzzbXkTD1e/tAeTLFV8l35LiI4Fmkh4dHV2tCQUFBQUFB0Y3Ytm1b8w+p9xQUFBQUFBQUklL/REXosoKiOR4eHt+nrb7bhlNQUEgONVB8M4h6EUE9b6CgoKCgoKCQFGrdQEFBQUFBQSEp1LqBgoKCgoKCQlKodQPFNw1RxWZzxd/WDQR2uqbdFl4pu7IL4kZQUFBIBrVuoGgrREnchc0L7SaMGTvRafnewHeVze/IeeS1e2ctuw4FpdZkUqxKvrZ5oZODnZO7Z0RB86mCG39kydqbea2aQyre3z++fp5FP+1h6x51ynTcaoGdrml3Bc95dt5jiY2Bts7ci0VdrQwFBYUoqHUDRdsoDd80afzioyHJn9Pjn9w89aeTud3emMZLB07UoVWrt2ytweNMCkODDgAg8vyW2fyWZHko4PQs9t8z3Xw+Nc50y4n9+4+HQ1xtNVvlpEx10xlWygWfyzsrVnKrBXa6po1gvziy0NLUbLLbnqDUKgDwVL+rz3hdoQgAtB6DbGYP5qYVdZF8CgoKiaDWDRRtAX97cm/UuLMJWdlpaTl5cWdd+jOKw3f94Z1avwQg8vyOJs4Mfp8m4GPai4M28gAAPPW/w9cLf7Cf0Zuu5eA4hhfsdS4Rq6+5KuqvjbF2+1cbMFunGVNRRctggHbnOXirBXa6pg3AU86ditIYOYSW6Lt5+oih4xxnLLpV1qur4t3JKWvo9dOVR7pIPAUFhURQ6waKNoB/fsad7vPPrEHyAAAga+B68shPumhVdPizqtpbsAQvn3K7JRb99AXo9VaXBQAAwE9KfI/JKilJAQAY6hpK8H3i27ofmhWRuza/cfrn50FtmsJo9E4NkNwGgZ2uaQ14xWCXQ3v3nX/6Nvryjp9Ga6ub/7nHTbcrR4WusgQFBYWkfPuRtCk6EFqfpduWN/xAznysEet0CI1e+5uxJPCgT2L6D3u2IXZz5toaKNdPCogUi4VgfIwAAAAcwwCDVftooTx8x5b3c312DmjVFMLJjgkOi89Heo0yFvLkn5MdE/rkTR5faYC5lXlfhQZTJF78Nvje88+YUl/DwdKVuIH5MPk2C+Tlxz8Ke5nBhgp6I60mDlOnS1qw/TUVWohpMsWKlx9/P+xlBltr3MLpzXQUrYQosIrCL+WYoD0IS0FdWQYFeGVxYRkXAoQup6omTyezi7CHDSKV4BUkBIeXGDiNQl8EhX5StnC06isjaGtyeEhUWrmUrtlkawOVOjdqjeGwosTg0IKBM6308dy44LCEil4WduP0ZQEA3Jzo+8GJldrm9tYDG9YjQjovP+5hRPlwx3G6nI/hd55kSI+wsR2h3sjFu7ShIjXglOSxORAChC6vqiZHB7zSguIqvP5/iu8O6nkDRbvC5XAIKWNzM2kAAADE55uXH5eWJ9323rVyulF/U1ev2NLaOxnGE0YpVOdkFhCAKE79WMQ0MjNmAQAAO3SrR8ZPB9z0W7FqqIg94jTSfv9rXEn+y83l03fENnjzAYi8B1umTnC/lsVUkcrxX2XSf/Rq//SaG7Bkrx+nbYzkqaiiH867mVtueFCIC5UguUA849pSE9Plt0uVtBQKr68aOcRqTzSnizQVVYhMRzIlSKhMDz+20FRXu6eu1aa774swAADgFibdWDtuyPQ9j9IrCHK7NEGUEkRRjK/HbEO9EQ6rT5zdMm2CncuiBfYrzucQgJd2Zc2Pv1xIRXqA92cWmwyy2Bgs2HLbcsOVJ1zf7WKsZ2i34mxs8qVl48xtFyxe5Gw5YvyWSHbqlWXmIx3c16xwmWwy/s+I2h09QqUTxbG+22eP0Dee8dul2ChPJ9Oxc39euWj6yNHutwprN/12aUPJNWBnxt3b7TBQW3fi3tcYAERF1qvbO+z7a+ta73sj3h8ovkUghBDC7du3QwrJ+G5tJUnDS645a2rP9yvAG37I/ZIcdm6z4+AeKECVxu+Nraz5nJ943Lb3UFevAC/XoRqjtkaUQQhh0b1VlvMvZuLNqhYPnh/g2kdt6smPmODf7DMOSihNe8ldDoQQYu+OTVbVdQssEdyMpZ+2U6HJGG+JqoQQcu4t1R28NpIruJR21NZ2fxrWNoHc8DX96KzJXgUQQohnHbFk0notu8/pEk1FFSLRkVQJcXbJ8rZVQBjGHm/4tR+V3Vhk/ktopRi7QFh9e5EmypoiuCpGCSx13xgGwtCefjKpGqvISU0vxiAnetvo0ZuiqwUFiq+7aKE0ncVB7FZ3cfrB8UxE1nD29rPP8vgQy/Jb0IeGKho5rNp3L70awvLoLcYsVHHmpRIIIYl0iCXvNmOgPYbYrzsTU4RB/ofDVnKo9MSjAk9vt4aSdDY55Brw47aOYDCGbYqp6VB+/FYjBmP45ld8IVV9tyPkt4eorqSeN1C0H3iKz4kXo3bsclRr5FdMlUETFu4MiHniaa9V/mTXutpdk/ShP996cc4BzSYmnXwR5jFWHhBFtzftK1v+j7MOCojCiIOudraOdvYL/wnLl+AsJu+l5zbfMivX+XqCBxWoprXl8LqnqJUhB/5+BC3srBQF/9N6u/w6R4cbd2yffyEBcHYJO/Wml38aBwBA05+3yrmftNjteeQC6XpjHRzmOY5WAgAAPoYyGQS7qBhvk6YAtE5TUYVE60huLjGg2rOXzdAi4n3PvRAcLCXyA3zTJy0eJ0Nul6aQKQEAoCkqyqOIqs1S18FSNFmtvr2VaJUPTvh81lTMDg4KCgoKCoook1ah4TkPgqK4rTMcQFWUFRCEZTBnvdtoDTqgads5WSiBKkWrP9ba9JYCQM5wqqUeWpmelo0BQCIdIIqK8ggiP3rFjkUmyjRA15tiPZTGz0hLx8RbuwUNJelsUsSYGqBI46mCRqemju8YqvMp2gvs/an1/v0OnHDtI/wFg6zhz2c8nXtWP7/9oG4ZQNcwcVy6asU8i95SABAFgev38375e5YWCvBPPq4zD2KuF/wvrmCemOnsmSLuUSuWcDMoBeoM6C9d9xGLxaj9kxd7JyQbqGhq1n0CpMwsTOVhaVR4DA9ITVwwp8/niy5Gw6f+djoyR26qy3Qtcd8NcoEA1Zl1wP/s0l6JVzyWznHdFZpPAAzH26YpAK3SVGQhkTqKMZdYFGyWzesPUn2977IBAPgn32scx4UGdHK7NIVUCQAAQFEUgIZbIrDkF7GFAC/PzxOQj5muPu7ttXN2f3rrDAcASkORhjIQeTmZhrMwKisrgwAel0MuvUZZRFAbAABRVJBHII/DhRJYW/KGgtZ5iFhTU1A0gFo3ULQPpU93rn1sferoDJIxClWz+8leG7K/FAn5yUrkBaz3RP+3d4YGCgCWcvF0cPkIq4kqqOL4yWbw6ZnzL8VMV7yPaZmi37ZiubkFBMR4vAYbEJnaPVVpsKK0jAComsPJiJAji4ZXhXm6jxtisvBsYpXIuiQSCADgvLvyi6X1pncjN52/7Ok8kNV2TQFolaYkhUToKMZc4mGZLXEzY+Tf9L76mcBe/3db0dm5bjkpyi4tsUSZ0BJ4SVEphJpjXJc2ZInrRH1a6wwnOZBcenMQRFBKXEOFWlukKNA6D2m5qSm+Z77hdQNeyS5vMtVQAWw7CM5br9VHGeu9fxkuRX4jTU1dVa53v+YRAojsq+uOy6zbayd4xYF9+JBOyCgqSQMA6MrKPYj0D2litmChTCYdwT9/SK0WKlhVVRkl8j59rGj4IZ0GaL309egAAEDTGLvq9NOUeP9N1vIpF1bM2x0tZqFCLhCUh6xzcLs9aPeVbVP7SLWgIJmmNf8005RcURGFeCQ6ijeXWHn9f1oyRaHikc+5lyHnngxydVCpuSDaLs2qIFNCaAmkh4IczI98HN+o68pTkjJwkTZoP8RIF03LrS1SVE3ZlnqIWFMjVFCNlkNItLW6TQK6aDqTbN1QmXr3wHLXv6MaOikv/d7e5c6OtpMclv4Tkt3tttUWX3XRU9Oy2vcWA19tAFui5M3Nw+sXO8+e86OTw/S5K3b8G/G5GwYi5qb8u2pHzsJjf5rXvBsFRO79a48KhdxKFMS8xpwWT1Nq+nnmpXWnlf/cZatc45BID3lZBOfzCQAA5PD4iKycrBhfZRj+MIwJ2SG+/tkNv0yQgAQEgGU6ebw6wol6GFJcdwnLy/uC6E+1H8EEnAdnzqfiAAC5gY47b1xa2Z949+y5mE0V5AK5z/xupBH6ww1lG5aBbdMUAOGakltGRKF8Eh3FmEsSUM1Zy5y08dfeizcmWrhZ1oogsUtTSJUQKpM5dJSxMpF8auPRhLoTGlUvjx69Uw5b1cUtg0w6KS23tkhRoHUeIs7UiIyMNIDcam6tvXg8DKJwX94AACAASURBVACiwyfG9qQqNeivZbNnzpy1cP25lyVkHd+GyPm18NLvnzpy7WV76t98Fia+RP+379i9jC6Ir0q+bRLi2Y9PbXYeoYgCmvbSe5y6z8tC1wwd4HYjH69MOGitIjviz0gJtll3MNUF+ey6bfh4fuTZv4/cThWoXF6Ul7R/ghRSt1G7DXTObmF++s21FroD7HfdfleGQwhxdtKtHdP7qRss8E6o6AT5QhDa8MqEk459dc2dl7nXsGzxfHuT3mN3vOFDyIk+MNtm7taAdxUQQogXRx+ea/u/u/lNz0pgn878aPm/R+yGn7EDF2mzTHclYRBL+2csS9HOJ0fcEQs8z8+lFw1BVcauv5VagZWn3d5qqUlDejheYEMIIf/tQUtFVGakR2zNHvSSoMV9tJ3OZ+AQwspLsw2X3ak5BoJ93G8hpbv8YXVbBHKfrOlHR3uYb3tWzP0Sc/Y3S10mwrQ8/OHDs5isdtdUjKKimkemI4dMCQnhRm80YCAy4w+m1u/nJ5OJQVgd4KKCMq2OZuNiLQFh/snJTFRxztXyepGc6K3GMghCVx+1+K9z/v4XD622Mna+mIW3soshLDkzjYUozL5aO75x7i/rRWNY7K85CgP5cVsMGfRB655xSaVDPP3QeCaqtfh2jUg8+6hV/f/t1lDYSg8Rp0HlzZ/UUebwNcG5fG7ec+/f55pp02jai+8IG/a743mKiuh9lr0MVwRlYbA89i9LHZP1j4pEeDL78QZjeUaPnvr6WnJ0BCA0lQl/RTcec6sj1w5m1D2BofVZdq+skbDYw25LvZM4sJ0QNQtDCCH72a5Zcw/HdtCcIKorxZ7D5HP5kB+7eTijkcaV/vOUpR3OlUMIYfVDdx1GL/eH7Wal1oFnnV62jkSJ6ps/qaFfyboBS7/s0pelaLk/kdvoc+7bA5aKdPXJngldYezmDcfeedtr0Zs9wUSYZnuSMAgh59mWH+QQgEhrG0+eZjNp+jLPpwXNvqxY6iknq/VPypt8jGfdWGE0yHbToU1TBwya4/NWkhbjxU/32uqyEICgDKbikAUH/5jARFjalisP3U3hQojn3t88sZdcL8vV+318DvzqONnFM6rm2FnlJSdZVK7/tDX7vE4f+nWKsdXGu7kSTJCkAuMPTlSnIwjCkB/geCAiZIMBA0HlBrtdSuOTF4Ttr6moQuQ6ilZCUrDUg5bajufzGiooWiY3N8p3m50ODaCKI5cfvRVfjJMoUZYYeGT5KEUUIHJDnXf5xRXXyuCmXf3ZREXglQhDy3JrqMDnWmE4blqo16/jVFBA05q0wft+Mjst7Oz26X0YCKo40v2wf2xe1jPfffMNpBGENXDOXr9XRbgI6ZUp94+7m/RAEXpv+21nQj/kvr51fOUoRRTQdO23X4jMwrq4oRBCcf1dHb17rBINQWhMOT27/ZHPPYwZqIz+tHWnwjKaHvLsfusGzovNI6TV5lwpEvxbHfZLX6b+srvCvBlL/Mtmwm9+yWUQQljx5l+XAVIIIjvh4If6VuK5/8212fz4Q23k/PT8hrM2nn11wQ+OZ1p+khz7eGzmostlwi4Jn4VrL779x8pgwdWs1hxdF0er1w0Q1h6ybqhx0empLOa4g+k4hBDP8rRkqS64IX7p3pGUBK8cpFd/DLw51UEND4a3gQ7/VuDpPvaqKE1/ZWjzxXx12C/96Ijs6D0Jwg5OdyytanhlVsz9AL8b9yNTvgjXGC9OePj4nXDn4eTEPQwKjsls0WK6MjPm/o2bwa9zOZCTGvEwLq/x2ouTmxAWdCMwJOZTWYMvGpaZlJSXlxIVEuh/82F0utAvb8sFcvPiQwLvPPtUASGEFalP7j5JLZOoYHtrSlJIjI7ClZAcdlJ8arPOFSOzGS1WAi9Le3YnIOBu1KfyugJt6eKWIUy6ZHR9Q8k04Oa8unfzzvNPFRBC9tvHYUnFwsNCdLt1Q8k1ZzWarP2/RbUfVN9Z3JMmN/lERrNbsU/e2082eDwGy+8v601DZKafr7MjP27buGnH0oV3EJ5zeW6vvj+HtOLxO/Zhr6XjWbaoy81n4XodgxbraM+5LNHqsGW0bd2Qc2xiY435r7cbs+StPNMwCPkJ24y1Z/s2e/pcC1acHOZ37vTZy/fj86vzou9FZmKwujg3NycnJye3oJwPIYRcdn6j/yGEEHLzXt+7fMbrpM/l+wn5DScdbn787WuP0zFOZqTfvxdDUyvZMYemadNp2guvpefk5hZXQwghzn4Xevn2m7r+axxQpg109LeCH73RgIE0jIXTEM6jVXo0QNNefKfT31Z0u+GAgoKi+9EBA0Vl5rOAwFclOKxIe3z17JnLISklNfNNdUlebo5IcvPZHFgR4KKG0gf8Hlm3LsfTD45jIrJ2ZyQQXf7fDBlEzulS7QPRYv8F2spD7ZdtPh74pqjpwon7fP1QlvbSe42Wyty8V0F+4RkYhBVpj6/+ez4wLl/YgkvcuqHZLNzAPIFuWkyDDVHc5pfaRjvHfaIb/n5y78TMvU5zf/vdfdv76ec956gLq6ryzZlF4x12PimVVUbeec810OxnvuzCO0x85FIRsWiFBV21W7L15LXEKhqEZXGX9+3e/ff1V4l3DriP7TvEeuGh8NKv7fwE/v5B8Ds+pA0YNowh5DJrxA9DmQie//hBLJVtmIKC4tsGT3904n/WA/qaz9kd9OzcPBOzGUvdlzhPMhwx69RbLgCckM3WY0RjbrfnWWXq60Q2gWpqa9cdTUFVNVQZgJuSIIECkkfOB6Dq0b+XUmgjzExrDgpJEmC8PZAaOXIYmnzp3zCR8drbmVYnJZEz/fVGsmtmagFDp5+W8K3uRPaVpQ57WAefX3BURwGYZatXPMz6OBcAgGoaTl2wJOqId7xgPy6qPNTGdcXzE2cSavbn8iIPbTr3fvCxUHdHNUAYf3mo/9vJM+G/j5yiYjpv819ZD29uiImM1w1+W6hbkv5Fqk9vhXy5lxeevB/lfujYFBYAAIzZz352Oep2a1vXhfDT0j7jAJFVUVMUalUZLS1lFORkf/xYBca3Msc0BQUFxdcArY/Vz3/BxIDH3pmBvvl/hWT5ahTf3+Aw+9DNdSuPTwj9n92xN3bHSGvg3vMtJADSQ7HBgEqTkmYhRJGwM19NYD8Ke63idHRBbWhXHTe/TDdeUcqz25eO7Dty6/zKyemlwXfXG8sAAHgvH4TlIT1n9q9NIoYqm8zbsiP9/s0tyU/P3TLb+vSzSY9PnlOM/ud79Oo2+1XaJSnRKV9qcsABmJtVxq6Mfvq0NhwcwtIaatxX+DTQGFSxn74aeBR6P4Y3xaIzJoU2JTOjK+oOUhR5lfv0n63+LKfH02qfRDAH9NdFwYfa6yiCAtDgHA+NXv8/XW+sg0NZf6GxaBsFXQVafWUBAM3XbgxFJbmv88gxhvEBADSaqKxOUlIsACDk8fh1H/FK2XwFRVkRBSgoKCi+XhBpWSkEVbVfv26SNh0ALZtdnsvujD/wzPdq8uqtBuLmMMjn8yBCZ0k1eH5LEAQBIRR7jLQmcn6o0Mj5E2bNOuY87bfbu9Z5zwz+tR+NKH7zJhNHjDQ1Go7dDQOMSwEA9KZYD6U9yUhLx4B6wmUPj8dVtad0OTkfP9F3bAqvFYWq2u+7vHakJOsAunYvLRR7Hf/6C7DoKcH9baXjkqDy4m4//IT0Gzy4vtkoTdLXIqjOrAP+s/Di11c8jt9IAfxGsWibBV0VBkJD0a9y3YCqqamgoIRTXsYDQKb5dVhZVQ0BKq+pKQ8A4H2OPH/IY1+grmeizzQxMZcoKCgovlbozLqjj1LG0ybqHH6XmpRc8ezhmsPPq0QFyEAVrTYcHigri4ByjN/gJsjl8ACqJCa5eE3k/ADSyPnRRnP8bj/IX92vJ5GX94WAiLRs41+sQgOM53K4ELAsPe5Z1t2Hp+6b9If6jQA3BXKthIHIyckiABbmZgPwda8bsMzMHBwdyGilBM67K+uW/v1x4u7j57epB829fjOlfdXrtjANTA3l0A+VGakfMGDaPK4iOzOzBCIyJmNGMgEATC2zefYD9l0THrKQgoKC4tuDrqOjiYJCDKPpjHGcrcMXtW5ApPS0WKr9dGkwp7S4iAA1b9QJdhEbg6hOXzIZNZHz/xMfOf9azJciAvQEOEEAAAiMPApigwDj7QYqJcVAAMT4nRSAsePWDSidTkOwnM+fcTBY6GqNLHKpIBbt+ICEbVPlAWjPMPLdH0Xbnxx73jj34Wl4Bm7at6npKp8/T+Chmk6LZmmgAABAp7PkFeQAtW6goKD4bsAhBDQtXR2WzqgZOqPI78XGmvdnRGZ+/MgHuoJkKFh6RjZB7z3KXGSZ1kTOJ1SUFQGA1dUiH390GASHw4cAUVBW7hx5HZefgjHUYAAdSwgMSKlbAsGG5iSLXNqCWLS1tQEAACQ6vb86AgXbrbscNLGo86ejm26PJTKvnr1TrOmwe6eTSn3XdfX7GCGZQL5qOe1OR+dFIarY7E4LQN5xvfDV9q8wqPQ47Q2fW591i/vhfQboaTnZSKKX/0bOc0fQs2Jf1OYJIfJexmUgg3+cZya8gIjI+cJubRg5H9UaNEANhUX5hZ0efpv48qUYoj36DdTpHHmSrRu4PD6AfL7Ip0HCoPWb62atxIveO3fZmZh8LlGe5HfYL7neoDStAX2ViPQQvyd5GC8/6vSGv4O/EERJfgEPAERGWhrBYq94vyjhFcX+u/nk8ypAlBbnpD6PzQaAj+EQVFdUNHgkg8rIy9GI4veJGVX5Ebef5BE16mL8+q8ur6YR3f+bS+uz8KzfjnFFXj9vfFDQQN3KhOMrtscZefiddROaYa9raJQJ5BuQ0450eF6Uivf3j6+fZ9FPe9i6R52zcOi4XvgK+1c030J6nG4G/inuZc1oSOTe/O8+f8K6/02SbC84fdjKnYv6JPj5vuEBAAAv6cLlGK35Hr8aC1YdWEHS86j3NdvuQdUbL2e77Sm0/Gtbfl6+fPny5e5LXBzMRu9+pw4A4MYcnDPVeduN95UAAECUxBz9/Ua/vbtsBOsL1qgJo3oQeZnpjR7/VnO4AOJ47bEJgOMEgBif23Q2RVTGL3ExEf14g2wW5n5My8RlzSaM6aw9buThHSCsSLr/7/4lpoooQtex3XTiapTYNAH1YBkBq4wVaQhAUKaSwTyv0IPWTJrO8uCawBUkkUtFxqKNfy086CqW5jVVBUUQhvyQxX6fMiMvbLfToQFUwXT5sXvJEG8awFbiJgihs8If8bMfH3G3GWe7ZKvnmfNnj+1cPWeq3eIDIZlNY3vwYzYZai+63fHhOkU0vHEmkI6js+S0J+2ZF0UY3JIvWfdXDqDTtJfc7Ry7dFwvfI3924BG2XE6MD3OV0C7j5DcyLUD6TSNQWZWP209ftZ7z6LRQyw33mvBTAQhLI87OnO4sfPOk8c2zzQzW3DyVW0cJ+6LDUMZCMLQmXsxs82R84v95mkwBvwWUTtISxBgXBLEzcL8mD+HMZQd/xMZfLG1tCleZFvgF7wJvSmIpYvnnWi0boCkkUtbGosWVue8Cr4b+bFpnoN2p3PDJla+OT2nvzQCACJl+EezJA4Qdv26gYKUdsuLIgI8y9OS2XnrBgqhiMuO0+Fu0J3omHUDw2x3Yn5SeKD/jfvRGa0Lllud9So48E5ESuMwj1j+63uBD88uNpx7RZJKyCPnc2O3GcsbbX3dqWkAsKTdZnIG6yPbfw4Q1ZUdty+yBrqagdV0AwCAsCALgKllZDPdSPC3wpDxExpe0hg+0X54zT+yfS2mku59BQBIaRlZa7VV3W6HjMES38hBI1ct87iecHjpb6NDvWZoN31HAWHjrSMU3QkavWPfKXV0/RTiYT/660Aw/zDZLVQ3tRmEpjJ4nP3g1lcgpW1krW3U9FOauqGN7ftDJ9RGDJOkEhltkymOJqKuMo3Xeq66vfT4w9+8bUXHNmpfqp77XOMsPbKx015SdOR5CiEQBAQAflU527sDqNrY/12NmxV6ctfuY+6TF2Se/Gf5OO2a/UBEUVLIg5e57JKwu69Npo/Q7IqxiSh9//jeB3WHaQb14SawwsSwR9Gfyhiaw8dbm+kKLnBK8tgcCAFCl1dVk6MDXmlBcRVe/z8AAABefvyjsJcZbKigN9Jq4jB1umg5ePHb4HvPP2NKfQ0HS1fiBubDhJ7HFl0jAABwsmNCn7zJ4ysNMLcy76sgbMMPVlH4pbzm9STCUlBXlkEBXllcWMaFAKHLqarJ00mkCN21KlIqryAhOLzEwGkU+iIo9JOyhaNVXyFBPADgZMcEh8XnI71GGQtZMkrQKAAAAFWfnz94LWU5zYiRHn4nPI3QNbexHFgXoE6oLk17AStKDA4tGDjTSh/PjQsOS6joZWE3Tl8WAMDNib4fnFipbW5vPbBhx+DFyeEhUWnlUrpmk60NVOpctmnNIk0haesE0kpSIkJfpJazdIytxmtkPE7TnDRGrawNjthMLeMSbxfXUx/A/LK83DyWlKKmkpQQZ+3qzctfNxACADvoxxFe+PLivsNpczwPDGmP6uTMt/v+sXjN9vtmB21UOu7cQR2VLw4czFp64bxlK8I+tB7yxxHtCjt01QA6Imd9JK3d0290Jl35uB4vSQm9cGjXrv3H/wtvlr62oxHScO672/uXjVahIcyJx+peuWGf/FYY9zFdcviK35mNk3vJaQ0ZM9lx7rxlx+7F3D270kQeYQzbFMOHEC9KvHd6ubEswhi++RUfQgix9KtLhumMWukVcMv3r5n9pFQsdr+oFiGHn3TScZT95rMBAf/99dMIRdbYf9KEGERkjRAKEgfbmE1b63X95sW/5g9XVBv5y/VPQh4wst/4bZqkTUcAfZDbmeeCDSaVnyJOzOunaPrLlYQSnExKs3xqoqTiX6Ivbf9xkAyCas7eunGivhILQWQmnchurk95jKfjMKPZO85dv3LY3XyAuiLa4D2FhI3CPoUe/22iNgNhmHncOeM8SFWxBwMBCKu3o1ciR4QuR54ENuqFsni/XfOHy6Oo8vyrby4uNdPTVJJCEVTeePPTkg+Xlxpra2goMBFEzmjjk9rnytzUy6sd5208de269x8TtVmqozc8zMeb9a9oU0jaZQIqEnzczMfO8/Dx8/93u9NgNQU5hs7yYA6e+7pVjihMLekJv/+1drGlLg2VH+64YuWq37yjy4V9Kdotrd5XQHuPkPysfx1VUFqvn/wLOiBXNJYeef9VXju/V+B+vLln46GQrPattRlYXuTprbuvpXTYS+ou299QA170+tbZUydPnDhx4uRJ7//C0jpWXEfy3b7mF9HwsotO8g2GSDzjlK0iY+iGF4JvYpHffE0aw2DjC8FakR+3dQSjZriGEEJ+/FYjRu1wzQ1f04/OmiwYWwVpYxtkBW0sh3Nvqe7gtTUZ7rC0o7a2+4WsG8hqxN4dm6yq6xZYIrgVSz9tp0KTMd4SJSwFLp7lbauAMIw93tQNMGU3Fpn/ElopTu8mEwa5VCx13xgGwtCefjKpGqvISU1vnqkYzw9w7aM29eRHwRU8+4yDUv26oUWN4oSs6E2jaRnP3/MwiwP5Ofd+N5FHEfnxB1Iwkbo07e30g+OZiKzh7O1nn+XxIZblt6APDVU0cli17156NYTl0VuMWajizEslEELIid42evSm6JpRrvi6ixZK01kcxBbSv0LFt7DLLjv30XcNqN0rVv14dT963faq1jqiMLXw7KNWzMYJbJs0hlo3tJrKdyH/nT4pmDm8fHyfZnb2z6VWgxWlpnasBLwg9cOXDrVHO+fDbDGosqGD27LlK1asWLF8+dIFE/Q7SS5Fh9MkEwjnecjTUqSnbm+BaylbjTeiYx9evS4XXEaRxi5Ho9f/T9cb6+Awz1FoVpKmcnB2CTv1ppd/GgcAQNOft8q5n3TzR8EkNVaGHPj7EbSws6p5C0nr7fLrHB1u3LF9/kKy3aDas5fN0CLifc+9EJx3JPIDfNMnLR4nI1bvRpBIBaBJ7hVZrb69lZq+eOK99NzmW2blOr82z46mteVwugTVC2mUIOx/T/v16yZpswBdy2aX57IBtPJnvleTMVG6NOltVEVZAUFYBnPWu43WoAOatp2ThRKoUrT6Y61NbykA5AynWuqhlelp2RgAlQ9O+HzWVMwODgoKCgoKiiiTVqHhOQ+Corigec1CxLeodTXpcZY1SY9Tr3nrHFF8DwEhjaFoNTIDJi5Yslwwc7gvdjbX+Wq2idCU+4rbk9dGULW+/VS6xB6dtW6g+GZpkgmEpqqqiMLcz5k122BROg1BFDQ0pIWXbgiqM+uA/9mlvRKveCyd47ortFFWkiZypCYumNPn80UXo+FTfzsdmSM31WW6kHCwomvkxd4JyQYqmpr1yW6kzCxM5WFpVHiMMOUUbJbN6w9Sfb3vsgEA+CffaxzHhYKcOuR6N4RMqkBhMblXsISbQSlQZ0D/enOyWHWVtbhRADQP+0/DUpOSeaJ0aZr3BRXE3a/7CJGXk2l0XVZWBgE8LgcALPlFbCHAy/PzBORjpquPe3vtnN2fLrTmpuJb1Lq2p8cR0aESZcf5etPjUFBIALVuoGhfWONXrrVSfOd7+HoGBgDv4/VbMSyTn1dOEbq7rymcd1d+sbTe9G7kpvOXPZ0HskTfiao5nIwIObJoeFWYp/u4ISYLzyYKDUcuqkYsN7eAgBiP12CvFVO7pyoNVpSWCW+Y2RI3M0b+Te+rnwns9X+3FZ2d69LdSKo3mVTRbW0A72Napui4SC1vVBMEYf9xMQH2WwMEAC8pKoVQc4zr0oYscZ0oYRCzFrVOkB6H0Yb0OBI6IgXF9we1bqBoZ+hDV/53zEU7zWeRnaOT08p7vbffv7tlZO0RIfFZSQbtvrJtah8JjhTRNMauOv00Jd5/k7V8yoUV83ZHt6BGmqqqMkrkffpY0fBDOg3QeunriZDX/6clUxQqHvmcexly7skgVweVFutNJlV8gwEAKJNJR/DPH1KFJiRpRaOaUBv2vyPOWSE9FORgfuTj+Ebhl8tTkjIkO2HVotY1SI8jQpv2c0QKiu8Mat1A0c7gqWdWHJbbERoSev9GwO17/p7LR9UfR2q3rCScB2fOp+IAALmBjjtvXFrZn3j37HnTm0hqZJlOHq+OcKIehhTXXcDy8r4g+lPtR4hoGao5a5mTNv7ae/HGRAs3y9pKW6A3mVQRQhvDMPxhGBOyQ3z9sxuGQ4EEJGDrGtX6sP8thTl0lLEykXxq49GEurwrVS+PHr1TLtn5uha1rlPT43xL2XEoKMRDrRso2kiTTCBYwvljd+Ju73ZftryGFT//uu30kxwMgNZnJcGbyiGKHh7650GhYNRn6fTSoGsOanb8mqxGOfsN68b3KA46eOxlzSzGfnQ3Usp+05oxop9Ky1m7uwxGstMUHBYa1QdoINe7UV4UBdFSAQBCc680gtbbeeUsbaQocO3cPwPTKvGKj/dO+CXisLK4hEtevahGiQ77L1SXpnlfeDw+hHiDrC8YTgCIYXXR+AkCB5DP4xMAyNmuXm4kxQ7bMMlyyd7zAQGXDq+xd08cM28IXVjNzcW3pHUdlR4Hlyg7jvj0OJzs15Fxn7+vTL8U3w7kxy0omvPd2kpIw7GsxplAKiGEZc/2WGrQmjwFRlgDV4eUQUialaRKVFaSNE4zOZWXnGRRuf7T1uzzOn3o1ynGVhvv5jY/3C0yz0kaHwqCAUzsJdfLcvV+H58DvzpOdvGMKhFjBCz1oKW24/m8hrJESvnwuUleFJxMalmi8NwrTcCLn+611WUhAEEZTMUhCw7+MYGJsLQtVx66m8JtUaNIwv4L1aVpb5ekhXr9Ok4FBTStSRu87yez08LObp/eh4GgiiPdD/vH5mU9890330AaQVgD5+z1e1WEQ27a1Z9NVAQJABCGluXW0AJhNeeJMkVLuqz16XFEOaLPvRvis+Nk8po6a7P0ODg/dvNwBkIfuuHFVx3KRgTf7Qj57dHV8Ru+Ib5bW0nWcLzo0bZFW8PqUofh/MqijNeBGyeY1kZbaJesJFhmUlJeXkpUSKD/zYfR6aJTl4irkZObEBZ0IzAk5lOZZEFl2Enxqc3irLQ0m0qLpTahMjPm/g1B2hdOasTDuLzG849k1bdX2P8WgpelPbsTEHA36lN568L4tMB4nZYep4XZcfCS5NDA0KSSDohj1PV8tyPktwe1bmg3vltbSdJwPOvS7D7WR7KbjofFfksXejf7lKJLqVk37En+akLptAUh6waKDuG7HSG/Pbo67hPF9wH7gW9QZux/O/+NSK+oeZOLlyQH7vz5uv7P83tS3tbN6Miw/90OKj0OBUX7QI3kFO2J8o87Dy/sl3lm6Th9JXllzV69tFRUhy28pfY/rw0jJYrgQNFpYIXvPxYRRM675GIhqWq/OcqTUz4TBPvj+2ye+JspKChEgwh+bXh4eHS1JhQUFBQUFBTdiG3btjX/kE5+maI5Hh4e36etvtuGU1BQSA41UHwziHqgQL2noKCgoKCgoJAUat1AQUFBQUFBISnUuoHim4aoYrO5X4XATte028IrZVd+Dzs1KSi+Uqh1A0V7QOQ88tq9s5Zdh4JSG8ThrUoN+mvZ7JkzZy1cf+5lScMZoSr52uaFTg52Tu6eEQXNpwpu/JEla2/mtWoOqXh///j6eRb9tIete9Qp03GrBXa6pt0VPOfZeY8lNgbaOnMvFnW1MhQUFKKg1g0U7QAn6tCq1Vu21uBxJoWhUbvjtjLmbzvLLZ8dDl3zP7da6T/HyX+G1Rz7I/L8ltn8lmR5KOD0LPbfM918PjU+Ws+J/fuPh0NcbTVb5aRMddMZVsoFnyVMmtR2Wi2w0zVtBPvFkYWWpmaT3fYEpVYBgKf6XX3WRQcVaT0G2cwezE0rog5KUlB0Z6h1A0WbIfL8jibODH6fJuBj2ouDNYmtYgAAIABJREFUNvKCS9zovcu2J5pv3GWnTQNyxr9unVFyaMnGB2wAAJ763+HrhT/Yz+hN13JwHMML9jqX2PAhRdRfG2Pt9q82aGVqRqaiipbBAO3Oc/BWC+x0TRuAp5w7FaUxcggt0Xfz9BFDxznOWHSrrFdHZNGWBDllDb1+uvIkGa4pKCi6HmrdQNFWsAQvn3K7JRb99AXo9VavTUDMDjx86g06ymaSsuB/qVE2E1QzfA9fziQAPynxPSarpCQFAGCoayjB94lv635oVkTu2vzG6Z+fB7VpCqPRaW0p3okCO13TGvCKwS6H9u47//Rt9OUdP43WVjf/c4+bbleOCl1lCQoKCknpql8WFN8MJYEHfRLTf9izDbGbM9fWQLnBsF8ZFhhShGgPGCBX+wlz6NB+tMrIuyFFK+ZLsVgIxscIAADAMQwwWLWPFsrDd2x5P9dn54BWTSGc7JjgsPh8pNcoYyFP/jnZMaFP3uTxlQaYW5n3VWgwReLFb4PvPf+MKfU1HCxdiRuYD5Nvs0BefvyjsJcZbKigN9Jq4jB1uqQF219ToYWYJlOsePnx98NeZrC1xi2c3kxH0UqIAqso/FJek0YbYSmoK8ugAK8sLizjQoDQ5VTV5OlkdhH2sEGkEryChODwEgOnUeiLoNBPyhaOVn1lBG1NDg+JSiuX0jWbbG2gUudGrTEcVpQYHFowcKaVPp4bFxyWUNHLwm6cviwAgJsTfT84sVLb3N56YMN6REjn5cc9jCgf7jhOl/Mx/M6TDOkRNrYj1Bu5eJc2VKQGnJI8NgdCgNDlVdXk6IBXWlBchdf/T/HdQT1voGgTxOeblx+Xlifd9t61crpRf1NXr9jS2mtY6utENoFqamvXjS2oqoYqA3BTEpIBw3jCKIXqnMwCAhDFqR+LmEZmxiwAAGCHbvXI+OmAm34rVg0VsUecRtrvf40ryX+5uXz6jtgGbz4Akfdgy9QJ7teymCpSOf6rTPqPXu2fXnMDluz147SNkTwVVfTDeTdzyw0PCiVKZEAiEM+4ttTEdPntUiUthcLrq0YOsdoTzekiTUUVItORTAkSKtPDjy001dXuqWu16e77IgwAALiFSTfWjhsyfc+j9AqC3C5NEKUEURTj6zHbUG+Ew+oTZ7dMm2DnsmiB/YrzOQTgpV1Z8+MvF1KRHuD9mcUmgyw2Bgu23LbccOUJ13e7GOsZ2q04G5t8adk4c9sFixc5W44YvyWSnXplmflIB/c1K1wmm4z/M6KypohQ6URxrO/22SP0jWf8dik2ytPJdOzcn1cumj5ytPutwtpNv13aUHIN2Jlx93Y7DNTWnbj3NQYAUZH16vYO+/7autb73oj3B4pvEfK0VxTN+W5tRdJw7pfksHObHQf3QAGqNH5vbCWEEELO3SXaNMCyO8uuv7Paf74yiirNuw4h5Ccet+091NUrwMt1qMaorRFlEEJYdG+V5fyLma1JnYnnB7j2UZt68qMgvyOefcZBCaVpL7nLgRBC7N2xyaq6boElgpux9NN2KjQZ4y1RlRBCzr2luoNrE31jaUdtbfenic8SSSqQG76mH5012asAQgjxrCOWTFqvZfc5XaKpqEIkOpIqIc4uWd62CgjD2OMNv/ajshuLzH8JrRRjFwirby/SRFlTBFfFKIGl7hvDQBja008mVWMVOanpxRjkRG8bPXpTdE2i8+LrLlooTWdxELvVXZx+cDwTkTWcvf3sszw+xLL8FvShoYpGDqv23UuvhrA8eosxC1WceakEQkgiHWLJu80YaI8h9uvOxBRhkP/hsJUcKj3xqMDT262hJJ1NDrkG/LitIxiMYZtiajqUH7/ViMEYvvkVX0hV3+0I+e1B5cOk6ECYKoMmLNwZEPPE016r/Mmudd6pOAAA8vk8iNBZUoz6OwmCICAkcAIAQB/6860X5xzQbGLSyRdhHmPlAVF0e9O+suX/OOuggCiMOOhqZ+toZ7/wn7B8Cc5i8l56bvMts3Kdryd4UIFqWlsOr3vSURly4O9H0MLOSlHwP623y69zdLhxx/b5FxIAZ5ewU296+adxAAA0/XmrnPtJi92eRy6QrjfWwWGe42glAADgYyiTQbCLivE2aQpA6zQVVUi0juTmEgOqPXvZDC0i3vfcC8HBUiI/wDd90uJxMuR2aQqZEgAAmqKiPIqo2ix1HSxFk9Xq21uJVvnghM9nTcXs4KCgoKCgoIgyaRUanvMgKIrbOsMBVEVZAUFYBnPWu43WoAOatp2ThRKoUrT6Y61NbykA5AynWuqhlelp2RgAJNIBoqgojyDyo1fsWGSiTAN0vSnWQ2n8jLR0TLy1W9BQks4mRYypAYo0nipodGrq+I6hOp+i/ZA1/PmMp3PP6ue3H+QTACBysrIIwDF+g5f3kMvhAVROvuZ1K13DxHHpqhXzLHpLAUAUBK7fz/vl71laKMA/+bjOPIi5XvC/uIJ5YqazZ4q4R61Yws2gFKgzoL903UcsVt2KhRd7JyQbqGhq1q9hpMwsTOVhaVR4DA9ITVwwp8/niy5Gw6f+djoyR26qy3Qtcd8NcoEA1Zl1wP/s0l6JVzyWznHdFZpPAAzH26YpAK3SVGQhkTqKMZdYFGyWzesPUn2977IBAPgn32scx4UGdHK7NIVUCQAAQFEUgIZbIrDkF7GFAC/PzxOQj5muPu7ttXN2f3rrDAcASkORhjIQeTmZhrMwKisrgwAel0MuvUZZRFAbAABRVJBHII/DhRJYW/KGgtZ5iFhTU1A0gFo3ULQnqJrdT/bakP2liACAod9PlwaJ0uKiul+oBLuIjUFUp69es6JEXsB6T/R/e2dooABgKRdPB5ePsJqogiqOn2wGn545/1LMdMX7mJYp+m0rlptbQECMx2uwhmFq91SlwYrSMgKgag4nI0KOLBpeFebpPm6IycKziVXi2kouEADAeXflF0vrTe9Gbjp/2dN5IKvtmgLQKk1JConQUYy5xMMyW+Jmxsi/6X31M4G9/u+2orNzn9r9KqLs0hJLlAktgZcUlUKoOcZ1aUOWuE7Up7XOcJIDyaU3B0EEpcQ1VKi1RYoCrfOQlpua4nuGWjdQtC80NXVVud79etEBQHuNNe/PwDM/fuTXXsXSM7IJeu9R5k3XDUT21XXHZdbttVNDAQAA+/AhnZBRVJIGANCVlXsQ6R/SxGzBQplMOoJ//pBaLVQtVVVllMj79LGi4Yd0GqD10tejAwAATWPsqtNPU+L9N1nLp1xYMW93tJiFCrlAUB6yzsHt9qDdV7ZN7SPVTprW/NNMU3JFRRTikego3lxi5fX/ackUhYpHPudehpx7MsjVQaXmgmi7NKuCTAmhJZAeCnIwP/JxfKOuK09JysBF2qD9ECNdNC23tkhRNWVb6iFiTY1QQTUo6vmG1w14Jbu8ybBABb7vcIiCmNeY0+JpSgAAQDdynjuCnhX7onbgJPJexmUgg3+cZ9Y4mhOReWndaeU/d9kq1zgk0kNeFsH5fAIAADk8PiIrJyvGVxmGPwxjQnaIr392wz6GBCQgACzTyePVEU7Uw5DiuktYXt4XRH+q/Qgm4Dw4cz4VBwDIDXTceePSyv7Eu2fPxWyqIBfIfeZ3I43QH24o27AMbJumAAjXlNwyIgrlk+goxlySgGrOWuakjb/2Xrwx0cLNslYEiV2aQqqEUJnMoaOMlYnkUxuPJtSd0Kh6efTonXLYqi5uGWTSSWm5tUWKAq3zEHGmRmRkpAHkVnNr7cXjYQAQhERnjr5bOtw8gn1iXYCYsZgoibuweaHdhDFjJzot3xv4rrL+Ei/93t7lzo62kxyW/hOS3e2O4xRfddFT07La9xYDXRn4nih5c/Pw+sXOs+f86OQwfe6KHf9GfG7vHAT4p7B/Pffu2rlz587dJ4IzRfkqURhxZs/OnTt37d5/8kLou/Z5RsuNOThnqvO2G+8rAQCAKIk5+vuNfnt32dTsrqIPW7lzUZ8EP983PAAA4CVduByjNd/jV+NGgyGefm7tv1pbdkxSqvuIZWwzUYPz6UMGDvCc5HfFciMtTMVMV7TezitnaSNFgWvn/hmYVolXfLx3wi8Rh5XFJVwAgIL9hnXjexQHHTz2smakZT+6Gyllv2nNGBYARNHDQ/88qNnxx9LppUHXHDREjfzbQS4QkZGWRrDYK94vSnhFsf9uPvm8ChClxTmpz2PzWq0pEKGpuG4S3jwyHStsycwlGXLW7i6Dkew0BYeFRnW/mklkZuMAAB6PDyBfsGIk7zMA+BgOQXVFRf3oI2e7ermRFDtswyTLJXvPBwRcOrzG3j1xzLwh9FZ18f/bO/OAmNY3jr/nnJmKSrtKylL2bDcJ2VpsqSgusly77Nx7ubhcOz9cW2TLzpUlFUWlhSwlFSmp0K5livamZjnnvL8/pmWaZmuaIs7nrzpzzvs87zLveeddvg/PHwhrRrAAAABwggQQx/HasQBJEgByOVxSrHUAqllsAAmi7jmCIAHEuWwo14wCGVuIBA8w/Z7GGmRmqNczBs4piDq/+VDIV5IsKShsQ5LgosPkCEPGiDu1cDKDzp2481qe/jNTA44sX3Aoqr7Iya/R1w66B2Z9g0oQd9yiNHyzmSq9Q6fu3fVVaAhAMK2x/4uuhBBCWB62rl/Phb4FBDPhqK2W8qC/I6Q4ntXCVBcWlNYd3yMKIi4dOvEglXe+q6KIkXR4rBJSd8CrGUh9yoibeW/DKKOeDnsffCgnIIREadL93VNMOprO80iobK4XAlS82T1CGQGA1vP3Z9XCvUnYba6IAERx+N53wu+QhLCMsyL/+UUFAUg7A7PxkyeOm7LM7UWhwBHKiriT0waYuew5475tmoXFvDNvKhp+jqeec7be9EzgKiRyfFcM7m239djWST17z7zwngUlQxS/OGBnpIgABKUrqPedd/SvsQqIooHVqmMBKWwIifygbTadVTpbrT184cKR9U7j57pF1Rw7Y95wVkZVekxed/Ds+WPrJ5hZbwnIl+IoqFiD8UdtOtIQBKGr9nQ68jx0sykdQVX6LLyRxhX/IJS/p6IeEu+jaCekBU89amXgdJXB76Bom+z8KM8d9oYYQNWHLj95P76YEONEeaLfieXD1FGAqPRz2esVV1xrg512e+UQLRoCAAAIXd9qexivRcpQcOy0sLPrR2uhANMft9kjKLk07cmlnVO60hFUfajrce9YRk6k58E5pu0QRLHXzANeb4oIEdaZKUGnXId0QBFaF4cdF8M+5b+9f2rVMHUUYEYOO69H5ODfOKMQQkn1XR29b6QGhiCYgko3+8MRL3eZ0dH23SdvPPckS/CQ5/d4DrMy+qBV54Er/HNwWBH7PyvDIZseF4krlOqIDX3odWszWNdlgeXSJ1UZe3zhUo8kabosqSByw89tcxmkjgLMYGlgw2RLI/dOn3U8Vt4vlBpEVaWYcQOe+L+JY3/3Si6HEMLKd5fn9lRCEOWxRz/hEDK9Z2u2c7xSASGE1cGuhvTOrsFyKyXZIHLOL9soxonqe7/poK03bsAzb841VlS3OpzIbnCd/f6IlTqt43i3BPmWF/fNtoHtFOgIqj3tOkPIF6Ii0LWHEh0BmNGKUBkti8g4MycmyMfLNygi5auww9wQQgirc96E+D18nlLU+Bw5UZwQHP5B+EiGlRcX7B8Sk92kLwUzOybI917I23wWZKU+D45jNKwAVn7CE39fv9CYjHK+YsKzk5IYjJSoUD/ve8HRmeWwCYg2yGbEh/o9jMyohBDCytRnAc9Sy6V6UN6einlIgo/CnZCe0qT41EaVK8FmI5rsBFGeFvnQxycgKqOi7oHmVHHTEGZdOr59RsV5wM57E3jv4cuMSghh6fvwJ0nFwmUhvr9xA+vVtkHtdGbeKuL9W/1kjbFC92UBIkfBRP61WRO3hX+qjbiTWVApdVJE7u15vzhdbLoCDZ7uPm3RTaHVxWVzITd22wB643EDhNz3/1qbzrudI9P3UwJNHzfgGR47z6TyNYyKoGVdMKT9lKvlEBadn6SoMPpoJgEhJHLcrBS15/nK9iNWXpSErOrdrV4+pjHV/vyCMs1Amm8FkXnBQRvFuq8KazwNU/1kjQkNUR6+P0Hka1YG8KS9I0fOmNaNhihZ7EsUTJnIOe/Yd9rM0QqAZrL+GVtoChL5/roDCgqK747vrqMoueOigyk7XC6qvVD9cHEnTGX86Szh93Pjdoye7J4p7EUsKSki7+aszsYrQ2WYfsc/HbBy4tfIawhPIk3IuAHCCv/FhgYzb0o1q9Q0mq77hHVdumO5Md8BIhXLkYMVAYrREAA6mFuYInEP7mcSAJDFxeXa1pNGiFp+JkpSwu9evXD51qOEQlZBTFDkZwKwShiM/Pz8fMYX3pIdp6ywwf8AAAA4BfFBty6dO3vx1qN3hfwbKDiFCQ+9nmYR7M+Rd6/ceJxWVRZ7fO6Cc5847HJGPoNRwgIAALLs4+NbD/lOILXihmD89bnjQUWIvq2DZftGHyoNd5poiDKjT7kFM4U82whWaQEjXySMwrK6/RIK5iuWWSixY8+fDKtskASe4HE+z3nVWGVqUzQFBUWbo+rzS1//uFISMNOf3rl86VbYh9KaXQVSdI9iwuQINcaLuPNo/47T/okCgmSSkuJEu+31hdYN+31OQdyDu8+yCQCY6U/vXLnm/7ZQlg2TNSIeQlCxnmJL+u5zk0ZZRT405TwFm8UilcwsLdoBQBv455kDNtkHnGf9/qfrjo9TrrrN7CgsKea7i4vGOO55VqasiXzwmGWqZ2K57PoHXLLiuQgNe2Fi7fZLtp+5k1iFQVged/Pgvn2H7r5JfHjEdaRxX9v5x56WfYMNp8THRyEfuBDr2b8/XcjHioN+6aeAEAXhj2KlqGdW6DbbEaKxtN8fWTdwwLovXGWvDbNvn7j5mS/fFUHu3jpLlw6gItBQUFC0KYjMx6f/sO1pbDlzn3/kldlDLKYudV3iMm7goOnn3rOl6h6ZYsLkCDEoa8QdAACoenz5Rgo2yMK85oCxNIFJ5IHS0KH90eQbl5+IjPMib8RPR/BTcsdFz2COF9+2N25JVvKHvEpRsyNEzk2Xrt0X+BTU3FAdvtaEhhkuD2FBKEHxXJyGvTCxdiL3pHUDmXtY/p+zKqJg455X611D4ftmILmsqv0W6KIAUf31lvDZKlbgUgMMIEr2l2pWxdglORl5FZI15MWAJ+0daX00A2c9/6MXDaEP3BZbuxpBZJ2x67f0YTlRfH6Sooh1Cu7XdyHPUyWsX3x3048UFBTfH3LvKFihK7pgmL7ZnP3BOSzIzQv8c4gqiqiOOZIiTZ8pLkyOyIeaHnEHQsh+tr4HjWay7il/TyomMAnxNfnli+e1PLuz2szqn+C6/5+/iE4tqX+5EnnuNiLWKSBkhSw3xJqxBi0KUVUp9U9QIuXC6VfDdoc58Z1coqkb9VYX+QT7xb/bvRWdwyfXzkQo9OxhhIJPtZ+jCAoA33wNRqv/n9ZtpKNjeQ+hGvYNxNqBvrEyAKDx2I2urqHyzWblcZwLAMAwUQEdlZQUAYCQw+EC8vO9P2asufb+SzlpOPXg3WurBjZe2WgCiOLwlctHnvvj+aUTAX9cnaoBAOeNx8XiXy+OV0UrRDxDMKJOrpi+lbMr76GxdEfzKSgoKFoLpJ2yEoJqO2zaOM6ABoD+xL1uyx6OORLpeTt57XZTSe8w0WFyoOjlAl7EnbHTp7u7TP79wd6NHtNC1ptg4pMii9+9yyaQwXq6/B0/f2ASJQBAtwm2/bBnWWmZOOiYcHPXrvCq2pO5rLz0DNrurU9r37CotsPBmxuGStMn0ww666P42/i3X8GoTlLc31ykHDfgH89t8jY54rOgq9SxjTlxD4IzEJM+feqzjWLSLoughtOPeE8nit/e2nXKNwVwG2jYNxJrFwaCoei3GjegOjpaKChhVZRzABAyDIDMqmoIUFU9PVVW+IVnfc8mfu1PRh+YZr/59wt2IWu7NShjTuTRpcdfVolSjkHVrTefWVF/PB5gxr+tnnromafPiWvbHdYZVwSc8u28NFTclwvTGzrLtvfOAFmySkFBQdEa0BTqDkYqmU22MTz+ITUpuTIyeJ2E7vF4L2VlBFQICZOjoSrJpvLAlRfdogfP9HrwqGCtSSdexB1RSZEMxlcSIu2UG/5iFRqYJJ/FhkDRalegVd19ROrBcX919PVZqCZVcTQAUVFRRgD8kp8LwHczbih7sWdDuO25a1OliQNTC56dnUegvegyLqqzPtzauPRQus2+U1d3dPSfdfdeimzpfAsUTM0HqqCfmFmpn3Bg3qgAyNLs7BKItB8yYqgCwZ29eWwXNRSAYevX2bv/lZFDgIbjBsxwhNMMQ66oLwai1E2wVjQd1szve+fg8zOnXy5Z/fbM67Eb3UVXHDM3ISFPUZMKjEpBQdFWoBka6qHgC45L0T0qapsYYTCvrLiIBDWis3VhciRb4kXcuRPztYgEnXgRd0QmRZAkAIDExasg8gUmkRuokhIdARDntpIAo+S3Ouv92bUn6Zs81gwQLyYvCEqjYQie9/kzAfoInaQQp3jO07Af45OwY5IqAPIMP9MqqNv95tTJ98qnF0+zCHNjwdwzX75M4KB6zoum66LKaJdavV2CzVEdMsJUcFYKMxw21XBYk8wrmLuuGHt6ddj1I7sqspizro9VFn4fM/b48sOF4+b+wjhzPobTeWaTjPBBMEur6OqqLb7G0Vp25A6nrJSrqi5JKFt2yKrSckxdXWohxzZC28yWkFba0vX/E0JACDB9I0NFKbpHfKRlD3pEdno6FxjxGlNdmBxpTPFF3AGdxSWFammqAwCrq0VOf7QYJIvFhQBR09RsHXsSmjI75fLq3Xnz3f+2rN3HQOYH3Xn8RYqU6f1Me9LwBD+flLohEOQvTnGK503QsK9NDQAAINnq9SUCNbvtex318Kir56MFd7iS2bcvPSzWc9y3x1mLr/RJhl9g9aJNUzSAjEBI1pUQ2nXOmmmdkK/3j/h0c13cp2ZwSPKKp7YW8LeHV9/uvmX3b/bT/9zm0lvmwxYNFL1bkNayI0daXN+88mPQqU2zR5kY9N/4WN7y5d+QNpyt70Tf/keEy66P1sn+9DELdLIaP1iqxX/RYXKkeFraiDsAoPq9e+qgsKjgS6uH7SC/fi2GaAeTXoatY0/cuKHq3VkX+50pWMGdf1YuX758+XLXJXMdLYbv+9BRmpcbZjJroa0GJ/rArGUXYwrYZEWS13Gv5PoCFad4Lk7DXphYO0Dbq6pgZPHHxKyqgucPnjFIALlcLgQ4t/6kI7/wfYuDdZ1/yWv36KKzK7c8KuSzyEw4tWJn3OBdXpcW8gfXJfP9TsSMOvDnAJl/SxPFxSVlZXWnTtUmrVk8gIZ1n7Nmmm5NHRNfi0tJQFaU827C3/ve/2jYtwcNAICoq3eQ+ceQutWag/v/t2W6SQsf82wtO3IE69B74ow+7LSiljpXrdDRfKq1ZuFnSYGT2hhtK1usL4X1p70btNIWr/+fCSIj7nVNV0rm37sWxB278Y9xImZSBZAQJgcvTHoZ9bFm231zIu4oDhs7rAPJyM5sEOhWXGASfhCtMUvmDhE9q8+ueYEJ+1Kw09OyCWWLsSOatiggO6KOW+AfPBz0aY2WEhAFi/1J0h4YxLN8VpupYwhAUAUN09lnw47aKtSdwxSreC5Swz7+rXCxdjzt7CQtFEHoqn0Xe2VkR1zfaW+IAVTNfLl7YDIkBIXvm3gapQFNOGXEzQ0/4TpxtN2S7W4Xr15y37N25iT7xUdCswUOy5RHn/3H/aVIoTBJ4BlP/3PfYNMJo3d12O5xJzIHhxBCIuf8tMn/JvP+zo/2Ob/TyUQBAQDVHrnG7XpoSkn4WuP2407nExBCouDM+A52FyQEH6DOYcqC3PTNRUDkuFkpYAZLAr6xzrucaTPZajV9+7aD3DsKdsSGXjRMt7eF9W/bT13y2L9oeF+rLYF5TZJHFBkmh/1qcz86gtANZ/2XDZsbcafYa7Yuvefvz2t7eCkCk0hDZVLQ5cNLzNVRhGZot/X07SiBvHNj/u5P13S6ViBvxUgZ4lPIB27hu7B7PA1+gnG6wbgBilU8b6qGPazOexMSEJEuGB9J7jS5rJjvzs/s0Q4BAFEa+Fej+E0Vby5uOxSQVVFZWVmS9eKyZ6TcHBUPUXDNSUPVcs+bSgiJrGNjVSeck9C1UeMGWZCbvrkIiPxTtm3iBds02kq2Wk/fvu3QMuMGusW+xIKkp37evkHRWbKFcRIeJgcveBvoF3xp8cBZt3gXmhNxhx27w0x18Pa38owhIBE8aZ+FiummCPmHemi2foOs0HRMraeYAgCEiSwABf3BE6cM5v2t1nfMWP6PdAfYOAyo+UfZeNQkSXtflfQH2+o3192WoL3pEs+I3kNXL9t1N+H40t+Hh52dalCzRsGKPew4eXN4IbH3LwAAQNWdrqYuaB2v0I4z9x0JnLrWxuzxaPMesICbEno72nHlUL0mL1iQZR/DAz91dJxsWn/mFP+S+ORxdEY5XW/AGFsLI94HrBJGKQtCgNBUtXVUaIBTVlhcRdT/DwAAgFMQ//jJ66xSqNZtqLVN/440kXaI4vchgS8/4xrGA/u0YxKmlv2FH6sSnSIAgJUbE/bsHYOr0dPS2tJYTVjm8covXytqZhkRRbWOmu1RQDCLv5SzIUBoKto6qjRxRoRu/xVpllOYEPK0xNR5GPrKPyxDc5STtbFQQQ9WbkzIk/gCpPMwMyHzllLkiofoMiSKk5+GRqVVKBlZjLc11eLf3Ctr5XIK4oKfVwxwGm3ESn/68FlWu0ET7QZ1bLBtWE7ZAgAAoiTledir1ApFQzPrMbpZ4Wl640bolDenBTaqG7MSj7kLzn0Cc8oZ+QxFJXU9DaXG3wZK211eIJhWn9EOfWRPQMlgsK3BYMGrWMeBE+1L3Sd3AAAgAElEQVQ+HjutM6g/70J7gyETnIbIkhQACmYb3FY/WHoq+HcPO9HaRvKl6uWFO6ylJ7a02iJF03Smmw1JQgAg2eqbRr49qM7IP27HvQs+Or/TE9fx8048y+WteCoN2fC4ACdrR3FEic9crVZzSqHPQs93WbHeHucvnPJ4kBx/a3WTBw2cj0IUvYnMuyuHDV10h6GsiSWfmt7PpJ/lBGeXOa6nwtNkUxcXZgdPPvvr5C0RHC1t9NPVhZZWmx8J3YwkMkUAAMl49M+ksa53chS0lPK8Vw/pMXytd6aQTZfMzKfu882NDDoZWW8N+FiEAwAA+0uS74bRfafsf5xZSYoz0hhRZoVpqDusuJrXOIXK2BPOQx0OvyU0VL/eWz5ldywuRfJCEFmGnLRb635dcz0V6QA+Xlw8pPeoLSG1m3Rkq1yp9HbllS3Qevr2t78rffsfGAgBgLBltrsQX15f3bQnbabb+r7ySE7FcqfnX9UndwYVtU4TYL46cjRn6fX9VjLIPsiO+OkIuVIatronDVGxPZEmZzHM1qWZZUWUpIRdP7Z37+FT1542ilz/XSMi4wKK3kTWOTt1er/Nr3gzdUVec/QwuumWV7w6l1ldXMAOK3CpUZ8NEbxE8bSTdnaH04QUppgU8Q/u47WNFvrVbOrAM8/ba2Htzf6JEqYNTuR42KkhdLNd7+rmH8t9F1muCWNKdFtA31y8WWEa6oKuFPgs6Koz6Uw67xMi96KjBlo3od+UXIkqQ1b0juHDt0bXTHoW352rj2KGi/1LYbMqV5zerlyz9aPq27cd5P024eZcdtJCsc6/eQvuNJAHeGZE0BuGnNcV2On39m85Fpoj31QbgTMizm/fdyelxWJRNz0epnwhi+P9fFL7rT9x6tA0etjt8PRWsvv9gar3sp67fuvWP1fOG20ktfrmd4yAojfrZeiLMqSTURde09K0HjOYhn9687ZG5RpFGjY5jManW95tpKPjbCeh6uICdojSktLUe2e901gAAKz77NUuJu2ETAiLTpEZeuTQYzjK3rpmMhHrMnf9TEN2nPtBbyERZ1CDGcum6pPxnlde8c4FkgU+npnjFo9uL9HthogxC4CAhrqyvnEXDcEWwnnttsOz3HrBnBp1MFTP1qo+YJm4XDXyRUQZMh+dvvBZTz03xN/f39/f/3l5Oy2MyHvkH8VuVuU20NvVxACt2wTbfhg3Ky0Tb1a2GlVWjb79MgF9+zpkbYGS6waAb6xv/yNS9THsZiBr/B73k38P/+J3O+KzvKersS4jJgzWlfOCvUK3KVv2/Na1hcNMkcWVHZ22//1rr9ZboKihtc60oZoDHRcObCVjFK2JgKI3pq2tjsL8z9kk0EUBACgNQxA1Xd12klMSqy7e0I6SzbyZXf0vzB0cdW3xxm0b50+aO6VJKXJiH4bmAi09vXqheSWLUeaqZ7yjnsZw5tk1+iKqTVw2u8eNY54eAdssndSJDM87LKdTPPVu8W43QJxZAOZJ1lDHE+75p0DDqT3qi1NRsS4xsbkC8+wapiW8DPHkV7FfQPeKAgaj5n1qvvaUOULv3oMGAJC9csXp7TYnW4KV9RPr2/+QtO9pM6+nzbf2QhYwTWMp9CibA6pjbNKyFkRa/jZmKX5YFMes2mCt/sHz+N0sHABO+t37MYpDVq6aIFW4LtaHW2usbLd+GLr16k03l16ilQJRHcczz0NPLBpQ9cTNdXTfIfMvJQpXFRWRIp6fX0hCnMPhWzJVMOikjcHKsnKh65KKFksWWtAL7nnc/kzib689UHdxqQvWIrXb4syKfIgfTnpatmjdK7G5anS38DIkSorKINQbsWApP0sW2HTHmlm5gvDp7TYjW4KVxdO3pzdD3166qqSg+Hmhxg0UcobWb9U197kGaRcW2Ts5O68K7LIzKOCfobW/CSWri/fed2vHpK6SZ94w3ZGrz79Iiffeaquacn3F7H3RjdV1RKaIaWtroiQjI72S/yINA1jn7t2Ev3KwHr8tmaBW+fjCldehV571XuBYu4O1CW6LMysxwwAAgCoo0BDi86fUamGfis2V0AcalyHSQU0FFkSExzcozYqUpCwCNKdyWypbgpXFp28vHPm1QAqKnxRq3EAhZ4jUiyuOq+wOCw0L8vV5EOjttnxYvaC2vNTFWY8uXk0lAAAqvZz2+N5Y1YP8EPmyQPAu0Skqmo8f0xFhRQWHFtddxxmMr0j3SQ6DRIh2onrTlzkbEG89Fm9JHLXQqjbNprgtzqxwowLQB/7SXwGWhnp65/L/0IYkJKGEXDVKS3gZKvQbZqZJJp/bcjKhbnW26vXJkw8rIGhG5bZYtgQr66fWt6egaBWocQNFMxFQ9MYTrro/jHuwz3XZ8hpWrFy/4/yzPBwA2dXFCQE7ZFHwsX8f1WyKUzTsrEvT691XR9A1MSlW2m3eOKZDsf9R99c1r8fSxwERSg5b140QPTetYus6tw+Sm6bmOL8+crkEtxvqm6s5iDQLABCqod4ArIvLqukGSJHfhll/+6Uxicr0wNNeiQRkFpewxSffOFciylDFbu3ywUqlTzaPs1py4KqPz43j6xxcE0fM7ktrTuUCsXq7csxWS+nbE/LSt2flvo2I+9zmYvVRUPAh/rgFRWN+2rISknE8p6GiNxNCWB6530oXE5gMRhR7rQ0th1CsuniVKHXxNJagHeYNZ2VUpcfkdQfPnj+2foKZ9ZaAfCFntETqladxISTyg7bZdFbpbLX28IULR9Y7jZ/rFiVBahviqUetDJyuMvhtiTbCFtQ3J6AYs+WJwjXUBSCKXxywM1JEAILSFdT7zjv611gFRNHAatWxgBR2U3IlugzZabdXDtHiqcwjdH2r7WG1B+BkrdzAxw8l6O3KLVvN0bcX2QJl0rdnCurbQwi5sdsG0BFav82v2vRhdLH8tD3kj8c305n+8fhpy0q6jBNFj3cs2v6kLgQIwWUWZb312zLWvFYqQB7q4nh2UhKDkRIV6ud9Lzg6U4wCuYQUWfkJT/x9/UJjMsqlOxtemhSf2ui4dJNF0ZtsVgBmdkyQL0++nZX6PDiO0fAtJFXy4suQKE+LfOjjExCVUVGfRPMqt3WyxeO71bcnSpLD/MKSSlpAieB74aftIX88qHGD3Phpy0qajBM5N2Z0tT2RK9grFnstne/R6CpFm6KNVq6QcQNFS/LT9pA/Ht9a94ni56D0kad/duy1PZefZ1bWKhOXJPvtWXm3+8o5najW1qZpq5X78+rbU1C0CN/vl52iLaL5657j802yLy4d3V1DVVOvc2d9Le3+8+/r/HF281CZDvlTfD+00cqtSE75TJKl6R9zGx/UpaCgaDqtpRdJ8ZOgOnjZpZjf9sVHRCZkleCKml0GWFr216Xkc34I2l7lksXxD+6n9lt/4hRAkLDb4cBlbHeqz6OgaB4IhBAAsGvXrm/tCQUFBQUFBcV3xI4dOxpfpIn/mKIxu3bt+jnL6qfNOAUFhfRQHcUPg6gJBWp/AwUFBQUFBYW0UOMGCgoKCgoKCmmhxg0UPzRkVWkpu00YbHVPv1s4ZaVMoTFJKSgovgeovcUUzaQs+vrp4Ey8YWgfrJPV0sUjawNGkHmPPS5H1ERCAIjKoFlrHExoAICq5Dv7D9xKKAL6437fs2ZUR4FhLDv+xKrrRnsPTdVr+vi28mPQ1YvXbnkFZtp4pp6f1PKb/mU22Oqefq8QeZH/nb900+t+ZOe9aUGujcKNUFBQfBdQ4waKZkF+vrl91dZHFQ2HDajmdJMVi2v/Y0UdW732SDKXdw/WddmDdTQAAMnwWjbx96pdkT4TIuYMmbaw3Su/Zd2w+kRYsYf+Cu57xEeGQQMAQKGj+VTrByeOVrRWrEKZDba6pw0ofXVi3ebrKXTTKWu2rncwUUz1uls4ZeYIETFBWxSsQ++JM/pcOXCJ0/kbWKegoJASap2CojkQKZ4BnEUXwt4kpabVkPzfXANNa+eJGjW3kAyvk4nTQj7WfJye9uroRFUAAJF67fjdL784TO1C03d0GsEJOXslkS/UYFXU/7bE2h9eayrjG0xBXUvftKdB6zVwmQ22uqd8EClXzkXpDu2LJXpumzKo32inqYvul3f+Vr8mVDR1u5kYqSKS76SgoPh2UPMNFM2AyE3v+qf3pjEa9ZfYT92iOGN31w0b8ISzFyrsr40y6SLwYuQmJX7ElSdpKAEA6B11NWBg4nsOGMhrkZURe7e9cz7t1btZDRSjYZJvkicyG2x1T2sgKvvMPbbWWhds/sPr1Ln774kB87cuNPqWvya+VUlQUFBICzVuoGgGmJH9TKMGVzjR94LKxu6sGzaU+B29kJj5y/4diP3MWXammvUvBURJURHBuTgJAAAEjgO6Yu3UQsXT3f98nHVhT0+ZXiGs3JiQJ/EFSOdhZkJm/lm5MWHP3jG4Gj0trS2N1fhekUTx+5DAl59xDeOBfdoxCVPL/qrNNsgpiH/85HVWKVTrNtTapn9HmrQPyt9ToQ8pDJlgzSmID3ryOqtUf/T8KY18FO2EKPDKL18rara7IIpqHTXbo4BgFn8pZ0OA0FS0dVRp4spF2GSDSCc4hQkhT0tMnYehr/zDMjRHOVkbt+flNflpaFRahZKRxXhbU626ZiRLweFFiSFhhb2mWXcn8uNCniRUdh5lP7q7MgCAnRcdFJLINLB0sO3Fn44I65yCuODnFQOcRhux0p8+fJbVbtBEu0EdGzTxb5pRkR6wShilLAgBQlPV1lGhAU5ZYXEVUf8/xU8HtU5BIU84MfcCS8Y61Q4byM/3boaXVSQ98Ni7asrgHuYLzsaW1d5KNxs7TK06L7uQBGRxanqRwmALM0UAACgN274r67cjC7vLMGqojD3hPNTh8FtCQ/XrveVTdsfyrXwAkvHon0ljXe/kKGgp5XmvHtJj+FrvzJob8OSzv07eEsHR0kY/XV1oabX50Rep4iCJMUhk3Vk6xHz5gzINfbUvd1cP7Wu9P5r1jTwV9ZA4H8U5IQZm5lP3+eZGBp2MrLcGfCzCAQCA/SXJd8PovlP2P86sJMWXiwCinCCLYjx3zRjYbZDj2tOX/pk81n7uonkOK67mkYCTdmvdr2uupyIdwMeLi4f0HrUlpJCUreAqEu7um2vWbaD9ikuxyTeWjba0m7d4kYvVoDH/RJSm3lpmOdTRdd2KueOHjPn7ObPmEaHWyeJYz50zBnU3m/r7jdgoN2fzkbNWrlo0Zehw1/u1m4W/bUbFe1CaHRe4z7GXgZHNgbc4AGRlzpsHux16GBjZHnwnuT1Q/IiID5dJ0ZiftqykyDg7YkPvjr96Fgtc/Zr85Mo2pz4dUIBqjDkQy6y5zk08Zdel34KzPmcX9NMdtv15OYQQFgWutprzX7YsUZmJAp8FXXUmnUnHef/mXnTUQDGDJQEsCCHEP7iP1zZa6FfCuxnPPG+vhbU3+yeKCSFkBS416rMhgs37KO2knd3hNLx5BtlP15nQFMefLYQQQiLnhJUC1nlZEOubeCrqITE+inVCUrnkeNipIXSzXe+4tZfKfRdZrgljSigXCKsfLNJDFSfwPpXgBJ56cAQdoRtMOZNUjVfmpWYW45AVvWP48K3R1bwHiu/O1Ucxw8X+pTJXcebRMQqI8sAZOy9FMrgQz/Ga1xVD1Qc7rj4YmFkNYUX0P2aKqPq0GyUQQjHWIZ68z4KOdujrsPFiTBEOuZ+OW6ug7WxO8lq63DIqprLFI94Dbtz2QXR6/60xNRXKjd8+mE4fsO0NV0hSP20P+eNBxdGmaHk4b+4HFI+pm22oRUGr99j5e3xinrk56Fc827vRI5X384fWb+X9V1cc0Vxy3JlXT3aNVAVk0YOtB8uX/+tiiALyy/OjC+ztnOwd5v/7pECK8/yc1247PMutF8ypOZSB6tlaDaibRWWGHjn0GI6yt1bn/Y91mbt+piE7zv2g9xcSEKUlpan3znqnsQAAWPfZq11M2kncnifeIK3bSEfH2U7DNQAAgIujCnSytKiYaJanAMjmqaiHRPsovrgkgBrMWDZVn4z3vPKKp0hBFvh4Zo5bPLq9+HIRRJwTAABMXV0VRbQnLl3QRwlT1jfuooExH52+8FlPPTfE39/f39//eXk7LYzIe+QfxZat4ACqpamGIIqmMzctHK5LA5iBvfMoDVClbv3XholdlABQGTjJqhvKzEzLxQEQYx0g6uqqCKI6fMXuRUM0MUDrNsG2H8bNSsvEJZd2EzIqprLFIqGoAYo0fFVgNOrV8RNDVT6F3OC8vRfwtfGwoRblgSsvurl0qn754FHdMICmO8Rp6eoVs0d1UQKALPTbdJiz5tB0fRQQGRcWTDuKL7ju/d8KhdPTXNxSJE214gn3/FOgYc8e7eouKSrS63yLfRiaC7T09OquACWLUeaqsCzqaQwHKNnMm9n1839zBw+Y9Pv5iDyVSXOn6Ev6bog3CFDD6Ue8Ly3tnHhr19KZC/aGFZAAJ4jmeQqATJ6KfEikjxKKSyJqE5fN7gFSPT0CSgEARIbnHZbTfFOa+HIRRKwTAACAoigA/Fsi8ORXsV8AUVHA4FGAm6895XF2z4weNNkKDgAUQxF+G4iqSnv+tzCqrNweARw2S7z1GmcRXmoAAERdTRWBHBYbSlHa0mcUyNZCJBY1BQUf1LiBQl7gCfcDC0UPGwAAqI79bw4GsPRrkZCfrCTDZ5Mb+seBqbooAHjKf+dDKgZZ22ih6mPGW8AXF6++lvC64qSnZYtebcXz8wtJiHM4fBsQFQw6aWOwsqycBKiO45nnoScWDah64uY6uu+Q+ZcSqyTlV7xBAADrw601VrZbPwzdevWmm0svRekeFOcpADJ5KuYhET5KKC7JKFosWWhBL7jncfszib+99kDdxaVr7X4VUeXSlJIoF/oEUVJUBqHeiAVL+VmywKY7JlvBSQ8Ub70xCMJ7SlJGhZa2SFNAthbS9KKm+Jmhxg0UcgJ/dz+gYIyzmGEDAADT6ait0sWksUIAmXt746n2Gw/Y66AAAIB/+pRJtlfXaAcAoGlqdiAzP6VJ2IKFKijQEOLzp9RqoYa1tTVRkpGRXsl/kYYBrHP3bjQAAMB0R64+/yIl3nurrWrK9RWz90VLGKiINwgqQjc6LnzQe9+tHZO6KsnJ05p/Gnkq3lERD3HE+Ci5uCTa6/HbkglqlY8vXHkdeuVZ7wWOWjUfiC6XRkmIc0LoE0gHNRVYEBEe36DqKlKSsgiRZSA/JFgXTdNLW6Spmmeb2kIkFjVCiWpQ1PMDjxsIZmmFQLdACd+3HHjivYf5Y5wniB02kIUxb3HnxZMFbyKzb2w8r/n3XjvNmgaJdFBVRggulwQAQBaHiyirKEtoq/SBv/RXgKWhnt65/HUMSUhCABTNx4/piLCigkOL611mML4i3Sc5DFIArEcXr6YSAACVXk57fG+s6kF+iHwpYVOFeIPsSC/fNLL7gIHK/M/A5nkKgHBPxZeMiIcKxPgoobikAdWbvszZgHjrsXhL4qiFVrUmxJSLIGKdEGpTod8wM00y+dyWkwl1JzSqXp88+bACylTFTUOcdbE0vbRFmgKytRBJRY20b98OQHY1u7a8OBwcAJKU6szRT0uLFw9JfKPXmaRxAzP57s6F9mNHjLRxXn38cS7fTz5OZuCB5S5OduMcl/4bmvvdHccpvj23m46+9cH3OACAyIu8umvJRFMDw1n/FX1rz6SHLHl37/imxS4zZv7q7Dhl1ordl59//l4jH+FJ9x7mjXFqOGxgxxydOcllh+9HJgAAkCUxJ//0NTmwd6J6w2eJzCsbLuv/s3tc/cOKZhNtdFkZn7IIQOQlfyhWGTrKXMLrCuvismq6AVLkt2HW335pTKIyPfC0VyIBmcUlbACAmsPmjWM6FPsfdX9d09OWPg6IUHLYum6EIgBkUfCxfx/V7PhTNOysS9Pr3VdH/LdDvEGkfbt2CB57y+NVCaco9vK2My+rAFlWnJf6MpYhs6dAhKfiS0ZU9sT5WGknrrikQ8XWdW4fJDdNzXH+4LpfzWJs5hIAAA6HCyCXN2IUX2cAcHECgurKyvreR8Vu7fLBSqVPNo+zWnLgqo/PjePrHFwTR8zuS5Opinn+QFgzggUAAIATJIA4XheQhSQJALkcLinWOgDVLDaABFH3HEGQAOJcNpRrRoGMLUSCB5h+T2MNMjPU6xkD5xREnd98KOQrSZYUFMp1wqZlqUr1/9+yGdOmTZ+/6crrEjEv3LLo6//bu0eA/Rdf8N1C5j0+u6/us73H/FMF3oCczKBzJ+68lqf/zNSAI8sXHIqqL3Lya/S1g+6BWd+gEsQdt2C/P+1sNnLGynUrZ40wUECQdqZ/PC7nfVQetq5fz4W+BQQz4aitlvKgvyOkOJ7VwlQXFpTWHd8jCiIuHTrxIJV3vquiiJF0eKwSUnfAqxm0zikjbua9DaOMejrsffChnIAQEqVJ93dPMeloOs8jobIV7AtBXMa573YN0ZtxU+AAJivyn19UEIC0MzAbP3niuCnL3F4UNjpgiaeec7be9KxC4DKR47ticG+7rce2TurZe+aF9yzB54RAFL84YGekiAAEpSuo95139K+xCoiigdWqYwEpbAiJ/KBtNp1VOlutPXzhwpH1TuPnukXVHDtj3nBWRlV6TF538Oz5Y+snmFlvCciX4iioWIPxR2060hAEoav2dDryPHSzKR1BVfosvJHGFf8glL+noh4S76NoJ6QFTz1qZeB0lcHvoGib7Pwozx32hhhA1YcuP3k/vpgQ40R5ot+J5cPUUYCo9HPZ6xVXXGuDnXZ75RAtGgIAAAhd32p7GK/NyVBw7LSws+tHa6EA0x+32SMouTTtyaWdU7rSEVR9qOtx71hGTqTnwTmm7RBEsdfMA15viggR1pkpQadch3RAEVoXhx0Xwz7lv71/atUwdRRgRg47r0fk4N84oxBCSfVdHb1vpAaGIJiCSjf7wxEvd5nR0fbdJ2889yRL8JDn93gOszL6oFXngSv8c3BYEfs/K8Mhmx4XCS8UIvvMhMZS56jmdM/6e6ojNvSh192DdV0WWN7AWOzxhUs9kqTpsqSCyA0/t81lkDoKMIOlgQ2TLY3cO33W8dgWeieIqkox4wYi69rmf2pbHJ59fbo+hqjPvF0JIYRM79ma7RyvVEAIYXWwqyG9s2uw3EpJNoic88s2inGi+t5vOmgbGTfgmTfnGiuqWx1OZDe4zn5/xEqd1nG8W8K3KGyx44aMZ3dDk4U0XmZOTJCPl29QRMpXYUe9ISSKE4LDP1QL/YyVFxfsHxKT3aQvBTM7Jsj3XsjbfBZkpT4PjmM0LENWfsITf1+/0JiMcr5+A89OSmIwUqJC/bzvBUdnlsMmINogmxEf6vcwMqMSQggrU58FPEstl+pBeXsq5iEJPgp3QnpKk+JTG1WuBJuNaLITRHla5EMfn4CojIq6B5pTxU1DmHXp+PYZFecBO+9N4L2HLzMqIYSl78OfJBULl4X4/sYNrFfbBrXTmXmriPdv9ZM1xgrdlwUIGwXj7w84WK27KBhxR3t6vSoNkX9t1sRt4Z9qI+5kFvB3UETu7Xm/OF1sugINnu4+bdFNodXFZXMhN3bbAHrjcQOE3Pf/WpvOu50j0/dTAjKMG2BFcQlfR1Z5Z5Y6pulytxJCCIvOT1JUGH00k4AQEjluVora83yFd/2tRUnIqt7d6uVjGlPtzy8o0wxa/FtBZF5w0Eax7qvCGs/hVD9ZY0JDlIfvTxD+Fm5Jvr/ugIKC4rvju+soSu646GDKDpeLai9UP1zcCVMZfzqr0a14lv+t8IbTpqzwtSY6fMMGbtyO0ZPdM0XMVuTdnNXZeGWoDNPv+KcDVk6XSkV9zJNIEzJugLDCf7GhwcybUs0qNQ1ZdJ9UNNT5lpS51SzEePbi8coAANDB3MIUiXtwP5MAgCwuLte2niQy8i5RkhJ+9+qFy7ceJRSyCmKCIj8TgFXCYOTn5+czvvCW7DhlhQ3+BwAAwCmID7p16dzZi7cevSvkXz7iFCY89HqaRbA/R969cuNxWlVZ7PG5C8594rDLGfkMRgkLAADIso+Pbz3kO4HUVjYE46/PHQ8qQvRtHSzbN/pQabjTREOUGX3KLZgp5FkKCgqKH46qzy99/eNKScBMf3rn8qVbYR9KazYosEoLGPkiYRSWsQHziV9oEWLQs6dKbXIK/fqZYMyIgNBGhjAj+5ljGmzS4kXccRaIuPNo/47T/omN5Mo40W57faF1w66bUxD34O6zbAIAZvrTO1eu+b8tlGXDZI2IhxBUrKfYkr773KRRVpEP0p6nIFJvhmBbrv/PhhcehTbwzzMHbLIPOM/6/U/XHR+nXHWb2VFYUsx3FxeNcdzzrExZE/ngMctUz8Ry2fUPuGTFcxEa9sLE2u2XbD9zJ7EKg7A87ubBffsO3X2T+PCI60jjvrbzjz0ta2vnJ4iPj0I+cCHWs39/upCPFQf90k8BIQrCH8W2oS1JFBQUFDJAZD4+/YdtT2PLmfv8I6/MHmIxdanrEpdxAwdNP/eeDQArdJvtCNFY2u+PZKa+TSwlUT0Dg7rNuai2rjYdsFMSJNtvQsQdAKoeX76Rgg2yMK85YCxNYBJ5oDR0aH80+cblJyLjvMgb8dMREEJIlH94sN+ph4qG6YxDTwv4p0K4JVnJH/IqRc2OEDk3Xbp2X+BT+0x1+FoTGma4PIQFoQTFc3Ea9sLE2onck9YNZO5h+X/OqoiCjXterXcNhe+bQQvPwlX7LdBFAaL66y3hU12swKUGGECU7C/VrM6xirMz8iokC9A3m+9u+pGCguL7Q+4dBSt0RRcM0zebsz84hwW5eYF/DlFFEdUxR1Kk6fZYAUsMMKBoz78EUO09RxNFNWZLfLhJEXfYz9b3oNFM1j3l36gkJjAJ8TX55YvntTy7s9rM6p/guv+fv4hOLal/uS9cv+AAABRoSURBVBJ57jYi1ikgZIUsN8RoJuufsYV82AxEVaVECRciM+TKjaC4/Cq89NOdzVMKsRchf/SreYqmbtRbXeST7Bf/bvdWdA6fXDsTodCzhxEKPtV+jiIoAHzzNRit/n9at5GOjuU9hGrYNxBrB/rGygCAxmM3urqGSltZmWgIjnMBABgmKhqkkpIiABByOFxAFof/u+7f4NQPb5Lbzbr86JRTpx9Yj4OCguKnBGmnrISg2g6bNo4zoAGgP3Gv27KHY45Eet5OXrvdVNI7DHK5HIjQFJX45m9JkiQhhBKXC3gRd7YJj7gzdvp0d5fJvz/Yu9FjWsh6E4wsfvcum0AG6+ny9938gUmUAADdJtj2w55lpWXioGPCzV27wqtqT+ay8tIzaLu3Pq3txFFth4M3NwyVRi6FZtBZH8Xfxr/9CkZ1kuL+5iJx3IB1nbBm14Q1uw68v7jQfvndF2fOR64+PlqKrHDiHgRnICZ9+tTfi2LSvtZQw+lHvKcTxW9v7TrlmwK4DTTsG4m1CwPBULRNjhtQHR0tFJSwKso5ADTe4AAgs6oaAlRVT0+VyAgvtXZ/uEmtKmrTMJuTd/+estaQGjhQUFD8gNAU6o4+KplNtjE8/iE1KbkyMnjd8ZdVooS1UHXrzcd7KSsjoALn8t0E2SwOQDVUJZjkRdz5W2zEnejBM70ePCpYa9KJZDC+khBpp9zwF6vQwCT5LDYEila7Aq3q7iNSD477q6Ovz0I1CV4JAVFRUUYA/JKfC8B3MW6oRbnfwuNbvB8tf5KewQbSjBvw7Ow8Au1Fl9pCQ1gfbm1ceijdZt+pqzs6+s+6ey9FtnTaHAqm5gNV0E/MrNRPODBvrMdcmp1dApH2Q0YMVcD0J041BgCA9n36mhizBkgWsaGgoKBo89AMDfVQ8AXHMcMRTjMMuaLGDYhSN31FbRMjDOaVFReRoEZ0liwtKsUhamgs3gov4s5miRF37sR8LSJBJ0CQJACAxMWrIPIFJpEbqJISHQEQ57aSAGMT3uqoruXwnvQ4HW1h2/WE3E6jYQie9/kzAfoInXIXp3jO07Af45OwY5IqAPIMP/P9o273m1Mn3yufXjzNIsyNBYuO+fJlAgfVc140XbdulFD17trLXgf3jxav9t9yEMzSKrq6qnTyw23AjtzhlJVyVdUlCWXLDllVWo6pq0st5PiNabP1KAwhmWnp6qYAgIAQYPpGhoqGw6YaDhN/Lz7Ssgc9Ijs9nQuMeN8RPDMrl6R1GWYp/rl39wMKxmySOuIOqaWpDgCsrhY5/dFikCwWFwJETVOzdew1pW3jhYUlOjZ2I6R7PdH7mfak4Ql+Pil1QyDIX5ziFM+boGFfmxoAAECy1eurJVCz277XUQ+Puno+WnB7LJl9+9LDYj3HfXuctXhVR2Q/2vOby/aLR1euvikpfE7L0EDR+wewI0daXN+88mPQqU2zR5kY9N/4+HtVIBekDdajaH4EOfu2ApddH62T/eljFuhkNX6wVIv/g11mDaLlxL6q7SBJxuu4LKTPr7MtxD3W5Ig7qH7vnjooLCr40uodMfn1azFEO5j0Mmwde2LGDWRZatSL+NyaH/tkceTBveGD9uyeKrYY68FMZi201eBEH5i17GJMAZusSPI67pVcX6DiFM/FadgLE2sHaHtVFYws/piYVVXw/MEzBgkgl8uFAOfWH1bkF77/vsG6zr/ktXt00dmVWx4V8rnLTDi1Ymfc4F1elxbWRebFjCb8c/dt4p159HtHLyd9i65Y3WrNwf3/2zLdRMYVqe/NjhzBOvSeOKMPO62opY7MKnQ0n2qtWfhZUuAkMbC+FLbuWeU2WI8NaFBgDTLT4tX9U0NkxL2u6Q3J/HvXgrhjN/4xTlnCQzxo/VftWdQ1wcvzHQcAADhJ12/G6M/Ztd6MN+rAC5NeRn0U1GKQIeKO4rCxwzqQjOzMBoFuxQUm4QfRGrNk7hDRv8rZNS8wYd91dnpaNqFsMVbKH/XNR+RxCzz1mJUygtDVewyfOHXK+JGWDn/eSm6aJiSe5bPaTB1DAIIqaJjOPht21Fah7hymWMVzkRr28W+Fi7XjaWcnaaEIQlftu9grIzvi+k57QwygaubL3QOTISEofN+kbAjQWscRubnhJ1wnjrZbst3t4tVL7nvWzpxkv/hIaLbQkzbchJ1DB22JblERSeocpizITd9cBESOm5UCZrAkQCbpcUnq7BQCtJqcfRtG7h0FO2JDLxqm29vC+rftpy557F80vK/VlsC8JskjVsSdnDbAzGXPGfdt0yws5p15UxsQh/1qcz86gtANZ/2XzXe/bBF3ir1m69J7/v68tpOWIjCJNFQmBV0+vMRcHUVohnZbT9+OEsg7N+bv/nRNp2sF8laMlEVnGlZkRAX63PHyDQiPa1qIAD64he/C7vE0+AnG6QbjBihW8bypGvawOu9NSEBEumB8JLnTuq9P5rvzM3u0QwBAlAb+1Sj4Ux0VIWvt/nreslLf1LhBFuSmby4CIv+UrczjBonq7BQNaT05+zZMy4wb6Bb7EguSnvp5+wZFZ8n2OqrOeRPi9/B5SlGD1zVe8DbQL/jS4oGzbvFdlTHiDjt2h5nq4O1vWzUMAJ60z0LFdFOE/Pt/mfQbVLpaTOwqdglIMjQdU+sppgAAYSILQEF/8MQpg3l/q/UdM5b/I90BNg4Dav5RNh41ScLeV6CkP9hWv3nOfoe0N13iGdF76Oplu+4mHF/6+/Cws1MNatcoiu+vczqW13/0AK1qRvWAfdtHfpuNkWTZx/DATx0dJ5vWHxvFvyQ+eRydUU7XGzDG1sKI9wGrhFHKghAgNFVtHRUa4JQVFlcR9f8DAADgFMQ/fvI6qxSqdRtqbdO/I02kHaL4fUjgy8+4hvHAPu2YhKllf+HHqkSnCABg5caEPXvH4Gr0tLS2NFYTtm6HV375WlEzy4goqnXUbI8Cgln8pZwNAUJT0dZRpYkzInT7r0iznMKEkKclps7D0Ff+YRmao5ysjYUcxgWAlRsT8iS+AOk8zEzIvKUUuQKgRp0dzCln5DMUldT1NJQAAIAoTn4aGpVWoWRkMd7WVKu2sYlyjKzMeBnyPOkr0B1kM8HcgH9vpoiUBOtRZJalykWdsZKU52GvUisUDc2sx+hmhafpjRuhU96cBtfIL7MSj0YF1qjxt8nD320DBNPqM9qhj+wJKBkMtjUYLHgV6zhwot3HY6d1BvXnu0rrOmpaV2GJtDcYMsFpiCgTCmYb3FY/WHoq+HcPO9HaRvKl6uWFO6ylJ7a02iJF0/ZFNhuShABA8pvs3mvDoDoj/7gd9y746PxOT1zHzzvxLLdm/VTTfvdVtw3znGas2nPq0OJBKuKTaQk4H4UoehOZd1cOG7roDkNZE0s+Nb2fST/LCc4uc1xPhafJpi4uzA6efPbXyVsiOFra6KerCy2tNj8SuhlJZIoAAJLx6J9JY13v5ChoKeV5rx7SY/ha70whO0SYmU/d55sbGXQyst4a8LEIBwAA9pck3w2j+07Z/zizkhRnpDGizArTUHdYcTWvcQqVsSechzocfktoqH69t3zK7lhciuQFvSiJvNlQnf0dBwBO2q11v665nop0AB8vLh7Se9SWkEJStGNE7oPNDk67I6rVtYmIXbZ9hyy9U7v1TGhKgvUoOmVp66amhlpJzv72jyNn38aAEAAIW2bbO/Hl9dVNe9Jmuq3vK4/kVCx3ev5VfXJnUFHrtAnmqyNHc5Ze328lg+yD7IifjpArpWGre9IQFdsTaXIWw2xdvuV0PVGSEnb92N69h09de9oo7H1LIyLjAoreRNY5O3V6v82veDN1RV5z9DC66ZZXvDqXWV1cwA4rcKlRnw0RvETxtJN2dofThJSHmBTxD+7jtY0W+tWodeOZ5+21sPZm/0QJk/cmcjzs1BC62a53dfOP5b6LLNeEMSW6LaBvLt6sMA11QVcKfBZ01Zl0Jp33CZF70VEDrVunaFquBNTZWdE7hg/fGl0z21l8d64+ihku9hflGOvN3uF6o/9N5jny9cLk9ghm6BrMEp1SKYSN2ouwlJtYNz+knH0bRt49JDfnspMWinX+zbuwBWJF45kRQW8Ycl5XYKff27/lWGiOfFNtBM6IOL99352UFlugliUepjwhi+P9fFL7rT9x6tA0etjt8PRWsvuDgar3sp67fuvWP1fOG20kSoi6lRFQ9Ga9DH1RhnQy6sJrWprWYwbT8E9v3lbwPkaRhk0Oo9X/T+s20tFxtpNQdXEBO0RpSWnqvbPeaSwAANZ99moXk3ZCZohFp8gMPXLoMRxlb10zmYh1mbt+piE7zv2gt5CIM6jBjGVT9cl4zyuveMcdyQIfz8xxi0e3l+h2Q8SYBUBAQ11Z37iLhmAlc1677fAst14wpxvvE1TP1moATYrkvwj1p4Fvj05f+Kynnhvi7+/v7+//vLydFkbkPfIX4VjJ/UPH3/abMbsnzxGNia7rp9k7jupGE51SFACN2ouQlJuUixo5+2UCcvZ1yNrgJFeFkMxQyJ2qj2E3A1nj97if/Hv4F7/bEZ/lPV2NdRkxYbCunA/3KHSbsmXPb11bOMwUWVzZ0Wn737/2avUF6tY6C4VqDnRcOLCVjFG0JgKK3pi2tjoK8z9nk0AXBQCgNAxB1HR120lOSay6eEM7SjbzZnb1vzB3cNS1xRu3bZw/ae6UJqXIiX0Ymgu09PTqRcyULEaZq57xjnoaw5ln1+iLqDZx2eweN455egRss3RSJzI877CcTvGk8cW73QBxZgGYJ1lDHU+4558CDaf2qC9ORcW6xMTmCsyzE5UqL+nkV7FfQPeKAgaj5s1qvvaUOULvzitJQcfYb56+LG03spNmzc2ogcM+LwfxKfUAoLECfKOUm5QLSs7+B6d9T5t5PW2+tReygGkaS9qT10xQHWOTlrUgijZ6hpriu0VxzKoN1nf/9Dx+1/XqrC5k+t37MYpDVq6aIHR3nyBSq4ujOo5nnocO2Lb5wHU31+DLJ+ce9TyzyFSIDREp4vn5hSTsyOHwLZkqGHTSxmBBWbnQdUlFiyULLdy33PO4/XnK4sJrD9Rd7nSt/QUqtdvizIovmRo46WnZOBC6X0tSriQlTZQUlUGoN2LB0gnSCE8SJcVlJKustBoAwUFWE1MSpEm5oOTsKShaHUoLlULO0PqtuuY+1yDtwiJ7J2fnVYFddgYF/DO09t0iWV28975bOyZ1lTzzhumOXH3+RUq891Zb1ZTrK2bvi24styMyRUxbWxMlGRnplfwXaRjAOnfvJvwdhPX4bckEtcrHF668Dr3yrPcCR62muy3OrMQMAwAAqqBAQ4jPn1KrhX0qNleSkkY6qKnAgojw+AbFWJGSJPx2TF29A8KOexHBb4ssTE4uEJ1SliQfmp4LPjl7EdmSW4OjoKDgQY0bKOQMkXpxxXGV3WGhYUG+Pg8Cvd2WD9Oqa2byUhdnPbp4NZUAAKj0ctrje2NVD/JD5MsCwbtEp6hoPn5MR4QVFRxaXHcdZzC+It0nOQwSoV2L6k1f5mxAvPVYvCVx1EKr2jSb4rY4s8KNCkAf+Et/BVga6umdyz8rAklIQgm5EpJaA3V2hX7DzDTJ5HNbTibULctWvT558qFwTxQHDjdThXl3D599Xzs8IAsD/r38FhWdUoVUeWxSLig5ewqKVocaN1A0EwFFbzzhqvvDuAf7XJctr2HFyvU7zj/LwwGQXV2cELBDFgUf+/dRzQ5GRcPOujS93n11BF0Tk2Kl3eaNYzoU+x91f13zbit9HBCh5LB13QjRc+sqtq5z+yC5aWqO8wfXTUpIcLuhvrmag0izAAChGuoNwLq4rJpugBT5bZj1t18ak6hMDzztlUhAZnEJW3zyQnIloM5eOXHt8sFKpU82j7NacuCqj8+N4+scXBNHzBbhmI7z2oW96BXPttlP+ev0bZ9bZ7fNnLgP2DvqAKBiJzylvkLai5CUm5KLlpKzJ+QlZ8/KfRsR9/nnCs1H8cMj/rgFRWN+2rISJkae01DRmwkhLI/cb6WLCcwOI4q91oaWQyhWXbxKlLp4GkvQDvOGszKq0mPyuoNnzx9bP8HMektAvpAzWiL1ytO4EBL5QdtsOqt0tlp7+MKFI+udxs91iyqRUAZ46lErA6erDH5boo2wBfXNCSjGbHmicA11AYjiFwfsjBQRgKB0BfW+847+NVYBUTSwWnUsIIXdtFw1UGfPJiBkp91eOUSLhgAAAELXt9oeVkiIcYyZeGFu3w4oAgBAaNrmrteT6g6ECU9JsL0wRKXcpFzILGcvssHJJGfPbCRnT0Bu7LYBdITWb/OrNn32vGn8tD3kj4dMOtMUwvhpy0q6jBNFj3cs2v6kTted4DKLst76bRlrXiu3IA91cTw7KYnBSIkK9fO+FxydKUaBXEKKrPyEJ/6+fqExGeXSnQ0vTYpPbXRcusmi6E02KwAzOybIlyffzkp9HhzHaPhakj75xursRHla5EMfn4CojAppXOMWJj7xux/8Kq2ksdRE01JqRBMK6buVsydKksP8wpJKWkB44Lvlp+0hfzyocYPc+GnLSpqMEzk3ZnS1PZEr2E0Wey2d79HoKgWF3BEybqBoVX7aHvLH41vrPlH8HJQ+8vTPjr225/LzzMqaFV6iJNlvz8q73VfO6US1NoqWh5Kzp6BoWaienEKeaP665/h8k+yLS0d311DV1OvcWV9Lu//8+zp/nN08VCoFBwqK5lGRnPKZJEvTP+Y2PpdLQUEhByjdJwq5ojp42aWY3/bFR0QmZJXgippdBlha9teVRf6HgqKpkMXxD+6n9lt/4hRAkLDb4cBlbHeqi6OgkDMIhBAAsGvXrm/tCQUFBQUFBcV3xI4dOxpfrBk3UFBQUFBQUFBIhNrfQEFBQUFBQSEt1LiBgoKCgoKCQlqocQMFBQUFBQWFtFDjBgoKCgoKCgppocYNFBQUFBQUFNLyf4gdqIa/y7P8AAAAAElFTkSuQmCC)"
      ],
      "metadata": {
        "id": "-C81RHSKcork"
      }
    },
    {
      "cell_type": "code",
      "source": [
        "\n",
        "dados = sns.load_dataset('iris')\n",
        "dados['sepal_length'].describe()"
      ],
      "metadata": {
        "colab": {
          "base_uri": "https://localhost:8080/"
        },
        "id": "L7toz_g9dSPm",
        "outputId": "0aeb03b1-9593-4d5a-a564-ae9fb78aeb16"
      },
      "execution_count": null,
      "outputs": [
        {
          "output_type": "execute_result",
          "data": {
            "text/plain": [
              "count    150.000000\n",
              "mean       5.843333\n",
              "std        0.828066\n",
              "min        4.300000\n",
              "25%        5.100000\n",
              "50%        5.800000\n",
              "75%        6.400000\n",
              "max        7.900000\n",
              "Name: sepal_length, dtype: float64"
            ]
          },
          "metadata": {},
          "execution_count": 8
        }
      ]
    },
    {
      "cell_type": "markdown",
      "source": [
        "medidas: de 4.3 a 5.1\n",
        "\n",
        "de 5.1 a 5.8\n",
        "\n",
        "de 5.8 a 6.4"
      ],
      "metadata": {
        "id": "thZ585jwdAbl"
      }
    },
    {
      "cell_type": "code",
      "source": [
        "sns.boxplot(dados['sepal_length'])"
      ],
      "metadata": {
        "colab": {
          "base_uri": "https://localhost:8080/",
          "height": 297
        },
        "id": "1ikGkgxgefPy",
        "outputId": "9e9a3c96-d224-4cff-df7c-417b06d1ffbb"
      },
      "execution_count": null,
      "outputs": [
        {
          "output_type": "execute_result",
          "data": {
            "text/plain": [
              "<matplotlib.axes._subplots.AxesSubplot at 0x7f83a2aaa7c0>"
            ]
          },
          "metadata": {},
          "execution_count": 5
        },
        {
          "output_type": "display_data",
          "data": {
            "text/plain": [
              "<Figure size 432x288 with 1 Axes>"
            ],
            "image/png": "[encoded data removed]"
          },
          "metadata": {
            "needs_background": "light"
          }
        }
      ]
    },
    {
      "cell_type": "markdown",
      "source": [
        "o primeiro traço é o **valor minimo**, o segundo é o **Q1**,a do meio é a **mediana**, a terceira é o **Q3**"
      ],
      "metadata": {
        "id": "Pd56pjMrerTh"
      }
    },
    {
      "cell_type": "markdown",
      "source": [],
      "metadata": {
        "id": "uEmeWSpUfKCC"
      }
    },
    {
      "cell_type": "markdown",
      "source": [
        "# MEDIDAS DE DISPERSÃO\n",
        "\n",
        "As medidas de dispersão auxiliam as medidas de tendência central a descrever o conjunto de dados adequadamente. Indicam se os dados estão, ou não, próximos uns dos outros."
      ],
      "metadata": {
        "id": "ycFS1nJjfpMh"
      }
    },
    {
      "cell_type": "markdown",
      "source": [
        "**amplitude total**\n",
        "\n",
        "diferença entre o maior e menor valor"
      ],
      "metadata": {
        "id": "p1UFD_1Pf3Rp"
      }
    },
    {
      "cell_type": "code",
      "source": [
        "dados['petal_length'].max() - dados['petal_length'].min()"
      ],
      "metadata": {
        "colab": {
          "base_uri": "https://localhost:8080/"
        },
        "id": "4n2b7F4SgB_o",
        "outputId": "d3d79da9-e451-4518-979a-a71dbbd1f4b8"
      },
      "execution_count": null,
      "outputs": [
        {
          "output_type": "execute_result",
          "data": {
            "text/plain": [
              "5.9"
            ]
          },
          "metadata": {},
          "execution_count": 9
        }
      ]
    },
    {
      "cell_type": "markdown",
      "source": [
        "**amplitude interquartílica** <p>\n",
        "A amplitude interquartílica é a diferença entre o terceiro e o primeiro quartil. Esta medida é mais estável que a amplitude total por não considerar os valores mais extremos"
      ],
      "metadata": {
        "id": "xWsUIX3AfuFQ"
      }
    },
    {
      "cell_type": "code",
      "source": [
        "dados['sepal_length'].describe()[6:7].values - dados['sepal_length'].describe()[4:5].values\n",
        "#[6:7] e [4:5] são as porcentagnes referentes"
      ],
      "metadata": {
        "colab": {
          "base_uri": "https://localhost:8080/"
        },
        "id": "5-RI5ZnIllR1",
        "outputId": "be75569c-d6e1-4e61-b79d-8485a964925c"
      },
      "execution_count": null,
      "outputs": [
        {
          "output_type": "execute_result",
          "data": {
            "text/plain": [
              "array([1.3])"
            ]
          },
          "metadata": {},
          "execution_count": 10
        }
      ]
    },
    {
      "cell_type": "markdown",
      "source": [
        "**amplitude semi-interquartílica** <p>\n",
        "A amplitude semi-interquartílica é definida como a média aritmética da\n",
        "diferença entre a mediana e os quartis."
      ],
      "metadata": {
        "id": "A3Dh_oMFmggq"
      }
    },
    {
      "cell_type": "code",
      "source": [
        "(dados['sepal_length'].describe()[6:7].values - dados['sepal_length'].describe()[4:5].values) / 2"
      ],
      "metadata": {
        "colab": {
          "base_uri": "https://localhost:8080/"
        },
        "id": "7B9v9KylmQFu",
        "outputId": "83fbc0e6-6405-46b8-e872-1785b91e0150"
      },
      "execution_count": null,
      "outputs": [
        {
          "output_type": "execute_result",
          "data": {
            "text/plain": [
              "array([0.65])"
            ]
          },
          "metadata": {},
          "execution_count": 12
        }
      ]
    },
    {
      "cell_type": "markdown",
      "source": [
        "**variancia** <p>\n",
        "medida que dá o quão distante está da média"
      ],
      "metadata": {
        "id": "TbioORMtm1X2"
      }
    },
    {
      "cell_type": "code",
      "source": [
        "dados['sepal_length'].var()"
      ],
      "metadata": {
        "colab": {
          "base_uri": "https://localhost:8080/"
        },
        "id": "YIHx53ixm-Gv",
        "outputId": "1c05fa0a-0a6b-4de0-e1b4-fe7f2d8ccc41"
      },
      "execution_count": null,
      "outputs": [
        {
          "output_type": "execute_result",
          "data": {
            "text/plain": [
              "0.6856935123042507"
            ]
          },
          "metadata": {},
          "execution_count": 13
        }
      ]
    },
    {
      "cell_type": "markdown",
      "source": [
        "**desvio padrao** <p>\n",
        "raiz quadrada da variancia"
      ],
      "metadata": {
        "id": "4Or3pcG0nOYO"
      }
    },
    {
      "cell_type": "code",
      "source": [
        "dados['sepal_length'].std()"
      ],
      "metadata": {
        "colab": {
          "base_uri": "https://localhost:8080/"
        },
        "id": "NOnUQUM3nUAW",
        "outputId": "19a313ea-01bd-4e65-8c77-cb610660cf9a"
      },
      "execution_count": null,
      "outputs": [
        {
          "output_type": "execute_result",
          "data": {
            "text/plain": [
              "0.828066127977863"
            ]
          },
          "metadata": {},
          "execution_count": 14
        }
      ]
    },
    {
      "cell_type": "markdown",
      "source": [
        "**Medidas de Assimetria** <p> \n",
        "A medida de assimetria é um indicador da forma da distribuição dos dados. Ao construir uma distribuição de freqüências e/ou um histograma, está-se buscando, também, identificar visualmente, a forma da distribuição dos dados\n",
        "\n",
        "![image.png](data:image/png;base64,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)"
      ],
      "metadata": {
        "id": "2c_6IxVLQMn4"
      }
    },
    {
      "cell_type": "markdown",
      "source": [
        "Simétrica se média = mediana = moda ou As = 0\n",
        "\n",
        "Assimétrica negativa se média ≤ mediana ≤ moda As < 0\n",
        "\n",
        "Assimétrica positiva se moda ≤ mediana ≤ média ou As > 0"
      ],
      "metadata": {
        "id": "y0u4hA2inwv-"
      }
    },
    {
      "cell_type": "code",
      "source": [
        "#identificando a assimetria\n",
        "dados['sepal_length'].skew()"
      ],
      "metadata": {
        "colab": {
          "base_uri": "https://localhost:8080/"
        },
        "id": "LC9W08N1n4dV",
        "outputId": "e200c182-0aa0-49e6-8b94-2c8ad898deda"
      },
      "execution_count": null,
      "outputs": [
        {
          "output_type": "execute_result",
          "data": {
            "text/plain": [
              "0.3149109566369728"
            ]
          },
          "metadata": {},
          "execution_count": 15
        }
      ]
    },
    {
      "cell_type": "code",
      "source": [
        "sns.kdeplot(dados['sepal_length'])"
      ],
      "metadata": {
        "colab": {
          "base_uri": "https://localhost:8080/",
          "height": 297
        },
        "id": "Fh8cdOhnofva",
        "outputId": "5fb670d1-b60e-44dc-d1f2-426d294ab42b"
      },
      "execution_count": null,
      "outputs": [
        {
          "output_type": "execute_result",
          "data": {
            "text/plain": [
              "<matplotlib.axes._subplots.AxesSubplot at 0x7f83a0941700>"
            ]
          },
          "metadata": {},
          "execution_count": 16
        },
        {
          "output_type": "display_data",
          "data": {
            "text/plain": [
              "<Figure size 432x288 with 1 Axes>"
            ],
            "image/png": "[encoded data removed]"
          },
          "metadata": {
            "needs_background": "light"
          }
        }
      ]
    },
    {
      "cell_type": "markdown",
      "source": [
        "**Medidas de Curtose** <p>\n",
        "A medida de curtose é o grau de achatamento da distribuição, é um indicador da forma desta distribuição\n",
        "\n",
        "![image.png](data:image/png;base64,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)"
      ],
      "metadata": {
        "id": "1mHIddDsREdH"
      }
    },
    {
      "cell_type": "markdown",
      "source": [
        "**Leptocúrtica**: quando a distribuição apresenta uma curva de freqüência bastante fechada, com os dados fortemente concentrados em torno de seu centro, K < 0,263. <p>\n",
        "**Mesocúrtica**: quando os dados estão razoavelmente concentrados em torno de seu centro, K= 0,263 <p>\n",
        "**Platicúrtica**: quando a distribuição apresenta uma curva de freqüência mais aberta, com os dados fracamente concentrados em torno de seu centro, K > 0,263. "
      ],
      "metadata": {
        "id": "HwRF2PXPRMH1"
      }
    },
    {
      "cell_type": "code",
      "source": [
        "dados['sepal_length'].kurtosis()"
      ],
      "metadata": {
        "colab": {
          "base_uri": "https://localhost:8080/"
        },
        "id": "mP6KVU_dqhch",
        "outputId": "04c78f43-0731-49f2-bf12-d3feaf117d3e"
      },
      "execution_count": null,
      "outputs": [
        {
          "output_type": "execute_result",
          "data": {
            "text/plain": [
              "-0.5520640413156395"
            ]
          },
          "metadata": {},
          "execution_count": 18
        }
      ]
    },
    {
      "cell_type": "markdown",
      "source": [
        "# CORRELAÇÃO"
      ],
      "metadata": {
        "id": "zQTXJ9SYrCuu"
      }
    },
    {
      "cell_type": "markdown",
      "source": [
        "**Quando fazer análise de correlação?** <p>\n",
        "Quando você tem uma hipótese de que o aumento ou queda em uma variável estão associados à evolução de outra variável, por exemplo, se aumentar o desconto, as vendas também aumentam."
      ],
      "metadata": {
        "id": "7Yv2OacPrGcK"
      }
    },
    {
      "cell_type": "markdown",
      "source": [
        "**Correlação de Pearson**\n",
        "<p>\n",
        "O coeficiente de correlação de Pearson pode ter um intervalo de valores de +1 a -1. Um valor de 0 indica que não há associação entre as duas variáveis. Um valor maior que 0 indica uma associação positiva. Isto é, à medida que o valor de uma variável aumenta, o mesmo acontece com o valor da outra variável. Um valor menor que 0 indica uma associação negativa. Isto é, à medida que o valor de uma variável aumenta, o valor da outra diminui. <p>\n",
        "\n",
        "valor = 0: nao ha correlaçao <p>\n",
        "valor > 0: a medida que uma cresce a outra cresce tbm <p>\n",
        "valor < 0: a medida que uma cresce a outra diminui"
      ],
      "metadata": {
        "id": "OgXc-wkoVKjc"
      }
    },
    {
      "cell_type": "code",
      "source": [
        "dados.corr()"
      ],
      "metadata": {
        "colab": {
          "base_uri": "https://localhost:8080/",
          "height": 175
        },
        "id": "_SQ8rcjD4750",
        "outputId": "a72c2ca0-5c36-4a80-880c-195be932e3d5"
      },
      "execution_count": null,
      "outputs": [
        {
          "output_type": "execute_result",
          "data": {
            "text/plain": [
              "              sepal_length  sepal_width  petal_length  petal_width\n",
              "sepal_length      1.000000    -0.117570      0.871754     0.817941\n",
              "sepal_width      -0.117570     1.000000     -0.428440    -0.366126\n",
              "petal_length      0.871754    -0.428440      1.000000     0.962865\n",
              "petal_width       0.817941    -0.366126      0.962865     1.000000"
            ],
            "text/html": [
              "\n",
              "  <div id=\"df-b422c35f-c6ea-4c1c-8da0-89c6c95dc33b\">\n",
              "    <div class=\"colab-df-container\">\n",
              "      <div>\n",
              "<style scoped>\n",
              "    .dataframe tbody tr th:only-of-type {\n",
              "        vertical-align: middle;\n",
              "    }\n",
              "\n",
              "    .dataframe tbody tr th {\n",
              "        vertical-align: top;\n",
              "    }\n",
              "\n",
              "    .dataframe thead th {\n",
              "        text-align: right;\n",
              "    }\n",
              "</style>\n",
              "<table border=\"1\" class=\"dataframe\">\n",
              "  <thead>\n",
              "    <tr style=\"text-align: right;\">\n",
              "      <th></th>\n",
              "      <th>sepal_length</th>\n",
              "      <th>sepal_width</th>\n",
              "      <th>petal_length</th>\n",
              "      <th>petal_width</th>\n",
              "    </tr>\n",
              "  </thead>\n",
              "  <tbody>\n",
              "    <tr>\n",
              "      <th>sepal_length</th>\n",
              "      <td>1.000000</td>\n",
              "      <td>-0.117570</td>\n",
              "      <td>0.871754</td>\n",
              "      <td>0.817941</td>\n",
              "    </tr>\n",
              "    <tr>\n",
              "      <th>sepal_width</th>\n",
              "      <td>-0.117570</td>\n",
              "      <td>1.000000</td>\n",
              "      <td>-0.428440</td>\n",
              "      <td>-0.366126</td>\n",
              "    </tr>\n",
              "    <tr>\n",
              "      <th>petal_length</th>\n",
              "      <td>0.871754</td>\n",
              "      <td>-0.428440</td>\n",
              "      <td>1.000000</td>\n",
              "      <td>0.962865</td>\n",
              "    </tr>\n",
              "    <tr>\n",
              "      <th>petal_width</th>\n",
              "      <td>0.817941</td>\n",
              "      <td>-0.366126</td>\n",
              "      <td>0.962865</td>\n",
              "      <td>1.000000</td>\n",
              "    </tr>\n",
              "  </tbody>\n",
              "</table>\n",
              "</div>\n",
              "      <button class=\"colab-df-convert\" onclick=\"convertToInteractive('df-b422c35f-c6ea-4c1c-8da0-89c6c95dc33b')\"\n",
              "              title=\"Convert this dataframe to an interactive table.\"\n",
              "              style=\"display:none;\">\n",
              "        \n",
              "  <svg xmlns=\"http://www.w3.org/2000/svg\" height=\"24px\"viewBox=\"0 0 24 24\"\n",
              "       width=\"24px\">\n",
              "    <path d=\"M0 0h24v24H0V0z\" fill=\"none\"/>\n",
              "    <path d=\"M18.56 5.44l.94 2.06.94-2.06 2.06-.94-2.06-.94-.94-2.06-.94 2.06-2.06.94zm-11 1L8.5 8.5l.94-2.06 2.06-.94-2.06-.94L8.5 2.5l-.94 2.06-2.06.94zm10 10l.94 2.06.94-2.06 2.06-.94-2.06-.94-.94-2.06-.94 2.06-2.06.94z\"/><path d=\"M17.41 7.96l-1.37-1.37c-.4-.4-.92-.59-1.43-.59-.52 0-1.04.2-1.43.59L10.3 9.45l-7.72 7.72c-.78.78-.78 2.05 0 2.83L4 21.41c.39.39.9.59 1.41.59.51 0 1.02-.2 1.41-.59l7.78-7.78 2.81-2.81c.8-.78.8-2.07 0-2.86zM5.41 20L4 18.59l7.72-7.72 1.47 1.35L5.41 20z\"/>\n",
              "  </svg>\n",
              "      </button>\n",
              "      \n",
              "  <style>\n",
              "    .colab-df-container {\n",
              "      display:flex;\n",
              "      flex-wrap:wrap;\n",
              "      gap: 12px;\n",
              "    }\n",
              "\n",
              "    .colab-df-convert {\n",
              "      background-color: #E8F0FE;\n",
              "      border: none;\n",
              "      border-radius: 50%;\n",
              "      cursor: pointer;\n",
              "      display: none;\n",
              "      fill: #1967D2;\n",
              "      height: 32px;\n",
              "      padding: 0 0 0 0;\n",
              "      width: 32px;\n",
              "    }\n",
              "\n",
              "    .colab-df-convert:hover {\n",
              "      background-color: #E2EBFA;\n",
              "      box-shadow: 0px 1px 2px rgba(60, 64, 67, 0.3), 0px 1px 3px 1px rgba(60, 64, 67, 0.15);\n",
              "      fill: #174EA6;\n",
              "    }\n",
              "\n",
              "    [theme=dark] .colab-df-convert {\n",
              "      background-color: #3B4455;\n",
              "      fill: #D2E3FC;\n",
              "    }\n",
              "\n",
              "    [theme=dark] .colab-df-convert:hover {\n",
              "      background-color: #434B5C;\n",
              "      box-shadow: 0px 1px 3px 1px rgba(0, 0, 0, 0.15);\n",
              "      filter: drop-shadow(0px 1px 2px rgba(0, 0, 0, 0.3));\n",
              "      fill: #FFFFFF;\n",
              "    }\n",
              "  </style>\n",
              "\n",
              "      <script>\n",
              "        const buttonEl =\n",
              "          document.querySelector('#df-b422c35f-c6ea-4c1c-8da0-89c6c95dc33b button.colab-df-convert');\n",
              "        buttonEl.style.display =\n",
              "          google.colab.kernel.accessAllowed ? 'block' : 'none';\n",
              "\n",
              "        async function convertToInteractive(key) {\n",
              "          const element = document.querySelector('#df-b422c35f-c6ea-4c1c-8da0-89c6c95dc33b');\n",
              "          const dataTable =\n",
              "            await google.colab.kernel.invokeFunction('convertToInteractive',\n",
              "                                                     [key], {});\n",
              "          if (!dataTable) return;\n",
              "\n",
              "          const docLinkHtml = 'Like what you see? Visit the ' +\n",
              "            '<a target=\"_blank\" href=https://colab.research.google.com/notebooks/data_table.ipynb>data table notebook</a>'\n",
              "            + ' to learn more about interactive tables.';\n",
              "          element.innerHTML = '';\n",
              "          dataTable['output_type'] = 'display_data';\n",
              "          await google.colab.output.renderOutput(dataTable, element);\n",
              "          const docLink = document.createElement('div');\n",
              "          docLink.innerHTML = docLinkHtml;\n",
              "          element.appendChild(docLink);\n",
              "        }\n",
              "      </script>\n",
              "    </div>\n",
              "  </div>\n",
              "  "
            ]
          },
          "metadata": {},
          "execution_count": 19
        }
      ]
    },
    {
      "cell_type": "code",
      "source": [
        "sns.heatmap(dados.corr(), annot = True)"
      ],
      "metadata": {
        "colab": {
          "base_uri": "https://localhost:8080/",
          "height": 287
        },
        "id": "IrJRAdE86ZAH",
        "outputId": "1c401a69-9ee7-44a9-d8b1-20026e8232c9"
      },
      "execution_count": null,
      "outputs": [
        {
          "output_type": "execute_result",
          "data": {
            "text/plain": [
              "<matplotlib.axes._subplots.AxesSubplot at 0x7f839e58aa60>"
            ]
          },
          "metadata": {},
          "execution_count": 21
        },
        {
          "output_type": "display_data",
          "data": {
            "text/plain": [
              "<Figure size 432x288 with 2 Axes>"
            ],
            "image/png": "[encoded data removed]"
          },
          "metadata": {
            "needs_background": "light"
          }
        }
      ]
    },
    {
      "cell_type": "code",
      "source": [
        "sns.scatterplot(data = dados, x = 'petal_length', y = 'petal_width')"
      ],
      "metadata": {
        "colab": {
          "base_uri": "https://localhost:8080/",
          "height": 297
        },
        "id": "LmQNrFZw6tHw",
        "outputId": "70405c07-2bfb-41bf-816e-464cf95f39a0"
      },
      "execution_count": null,
      "outputs": [
        {
          "output_type": "execute_result",
          "data": {
            "text/plain": [
              "<matplotlib.axes._subplots.AxesSubplot at 0x7f839bd2a9a0>"
            ]
          },
          "metadata": {},
          "execution_count": 23
        },
        {
          "output_type": "display_data",
          "data": {
            "text/plain": [
              "<Figure size 432x288 with 1 Axes>"
            ],
            "image/png": "[encoded data removed]"
          },
          "metadata": {
            "needs_background": "light"
          }
        }
      ]
    },
    {
      "cell_type": "markdown",
      "source": [
        "**Correlação de Spearman** <p>\n",
        "Uma vez que a correlação de Spearman segue uma lógica monotética, e não tem pressupostos lineares como na correlação de Pearson, é possível utilizar o rs para relações não lineares <p>\n",
        "Tende a ser preciso"
      ],
      "metadata": {
        "id": "KI_pm54cV2gh"
      }
    },
    {
      "cell_type": "code",
      "source": [
        "dados.corr('spearman')"
      ],
      "metadata": {
        "colab": {
          "base_uri": "https://localhost:8080/",
          "height": 175
        },
        "id": "XGohOwuu7RRG",
        "outputId": "f617e839-8c5c-4501-f93a-aa5f93199f67"
      },
      "execution_count": null,
      "outputs": [
        {
          "output_type": "execute_result",
          "data": {
            "text/plain": [
              "              sepal_length  sepal_width  petal_length  petal_width\n",
              "sepal_length      1.000000    -0.166778      0.881898     0.834289\n",
              "sepal_width      -0.166778     1.000000     -0.309635    -0.289032\n",
              "petal_length      0.881898    -0.309635      1.000000     0.937667\n",
              "petal_width       0.834289    -0.289032      0.937667     1.000000"
            ],
            "text/html": [
              "\n",
              "  <div id=\"df-b430c492-73a5-4471-a550-bb0630a3c8d7\">\n",
              "    <div class=\"colab-df-container\">\n",
              "      <div>\n",
              "<style scoped>\n",
              "    .dataframe tbody tr th:only-of-type {\n",
              "        vertical-align: middle;\n",
              "    }\n",
              "\n",
              "    .dataframe tbody tr th {\n",
              "        vertical-align: top;\n",
              "    }\n",
              "\n",
              "    .dataframe thead th {\n",
              "        text-align: right;\n",
              "    }\n",
              "</style>\n",
              "<table border=\"1\" class=\"dataframe\">\n",
              "  <thead>\n",
              "    <tr style=\"text-align: right;\">\n",
              "      <th></th>\n",
              "      <th>sepal_length</th>\n",
              "      <th>sepal_width</th>\n",
              "      <th>petal_length</th>\n",
              "      <th>petal_width</th>\n",
              "    </tr>\n",
              "  </thead>\n",
              "  <tbody>\n",
              "    <tr>\n",
              "      <th>sepal_length</th>\n",
              "      <td>1.000000</td>\n",
              "      <td>-0.166778</td>\n",
              "      <td>0.881898</td>\n",
              "      <td>0.834289</td>\n",
              "    </tr>\n",
              "    <tr>\n",
              "      <th>sepal_width</th>\n",
              "      <td>-0.166778</td>\n",
              "      <td>1.000000</td>\n",
              "      <td>-0.309635</td>\n",
              "      <td>-0.289032</td>\n",
              "    </tr>\n",
              "    <tr>\n",
              "      <th>petal_length</th>\n",
              "      <td>0.881898</td>\n",
              "      <td>-0.309635</td>\n",
              "      <td>1.000000</td>\n",
              "      <td>0.937667</td>\n",
              "    </tr>\n",
              "    <tr>\n",
              "      <th>petal_width</th>\n",
              "      <td>0.834289</td>\n",
              "      <td>-0.289032</td>\n",
              "      <td>0.937667</td>\n",
              "      <td>1.000000</td>\n",
              "    </tr>\n",
              "  </tbody>\n",
              "</table>\n",
              "</div>\n",
              "      <button class=\"colab-df-convert\" onclick=\"convertToInteractive('df-b430c492-73a5-4471-a550-bb0630a3c8d7')\"\n",
              "              title=\"Convert this dataframe to an interactive table.\"\n",
              "              style=\"display:none;\">\n",
              "        \n",
              "  <svg xmlns=\"http://www.w3.org/2000/svg\" height=\"24px\"viewBox=\"0 0 24 24\"\n",
              "       width=\"24px\">\n",
              "    <path d=\"M0 0h24v24H0V0z\" fill=\"none\"/>\n",
              "    <path d=\"M18.56 5.44l.94 2.06.94-2.06 2.06-.94-2.06-.94-.94-2.06-.94 2.06-2.06.94zm-11 1L8.5 8.5l.94-2.06 2.06-.94-2.06-.94L8.5 2.5l-.94 2.06-2.06.94zm10 10l.94 2.06.94-2.06 2.06-.94-2.06-.94-.94-2.06-.94 2.06-2.06.94z\"/><path d=\"M17.41 7.96l-1.37-1.37c-.4-.4-.92-.59-1.43-.59-.52 0-1.04.2-1.43.59L10.3 9.45l-7.72 7.72c-.78.78-.78 2.05 0 2.83L4 21.41c.39.39.9.59 1.41.59.51 0 1.02-.2 1.41-.59l7.78-7.78 2.81-2.81c.8-.78.8-2.07 0-2.86zM5.41 20L4 18.59l7.72-7.72 1.47 1.35L5.41 20z\"/>\n",
              "  </svg>\n",
              "      </button>\n",
              "      \n",
              "  <style>\n",
              "    .colab-df-container {\n",
              "      display:flex;\n",
              "      flex-wrap:wrap;\n",
              "      gap: 12px;\n",
              "    }\n",
              "\n",
              "    .colab-df-convert {\n",
              "      background-color: #E8F0FE;\n",
              "      border: none;\n",
              "      border-radius: 50%;\n",
              "      cursor: pointer;\n",
              "      display: none;\n",
              "      fill: #1967D2;\n",
              "      height: 32px;\n",
              "      padding: 0 0 0 0;\n",
              "      width: 32px;\n",
              "    }\n",
              "\n",
              "    .colab-df-convert:hover {\n",
              "      background-color: #E2EBFA;\n",
              "      box-shadow: 0px 1px 2px rgba(60, 64, 67, 0.3), 0px 1px 3px 1px rgba(60, 64, 67, 0.15);\n",
              "      fill: #174EA6;\n",
              "    }\n",
              "\n",
              "    [theme=dark] .colab-df-convert {\n",
              "      background-color: #3B4455;\n",
              "      fill: #D2E3FC;\n",
              "    }\n",
              "\n",
              "    [theme=dark] .colab-df-convert:hover {\n",
              "      background-color: #434B5C;\n",
              "      box-shadow: 0px 1px 3px 1px rgba(0, 0, 0, 0.15);\n",
              "      filter: drop-shadow(0px 1px 2px rgba(0, 0, 0, 0.3));\n",
              "      fill: #FFFFFF;\n",
              "    }\n",
              "  </style>\n",
              "\n",
              "      <script>\n",
              "        const buttonEl =\n",
              "          document.querySelector('#df-b430c492-73a5-4471-a550-bb0630a3c8d7 button.colab-df-convert');\n",
              "        buttonEl.style.display =\n",
              "          google.colab.kernel.accessAllowed ? 'block' : 'none';\n",
              "\n",
              "        async function convertToInteractive(key) {\n",
              "          const element = document.querySelector('#df-b430c492-73a5-4471-a550-bb0630a3c8d7');\n",
              "          const dataTable =\n",
              "            await google.colab.kernel.invokeFunction('convertToInteractive',\n",
              "                                                     [key], {});\n",
              "          if (!dataTable) return;\n",
              "\n",
              "          const docLinkHtml = 'Like what you see? Visit the ' +\n",
              "            '<a target=\"_blank\" href=https://colab.research.google.com/notebooks/data_table.ipynb>data table notebook</a>'\n",
              "            + ' to learn more about interactive tables.';\n",
              "          element.innerHTML = '';\n",
              "          dataTable['output_type'] = 'display_data';\n",
              "          await google.colab.output.renderOutput(dataTable, element);\n",
              "          const docLink = document.createElement('div');\n",
              "          docLink.innerHTML = docLinkHtml;\n",
              "          element.appendChild(docLink);\n",
              "        }\n",
              "      </script>\n",
              "    </div>\n",
              "  </div>\n",
              "  "
            ]
          },
          "metadata": {},
          "execution_count": 24
        }
      ]
    },
    {
      "cell_type": "code",
      "source": [
        "sns.heatmap(dados.corr('spearman'), annot = True)"
      ],
      "metadata": {
        "colab": {
          "base_uri": "https://localhost:8080/",
          "height": 287
        },
        "id": "D_AnbtFv7XMZ",
        "outputId": "c64937aa-e550-435b-f508-3dad0428538e"
      },
      "execution_count": null,
      "outputs": [
        {
          "output_type": "execute_result",
          "data": {
            "text/plain": [
              "<matplotlib.axes._subplots.AxesSubplot at 0x7f839bd046a0>"
            ]
          },
          "metadata": {},
          "execution_count": 25
        },
        {
          "output_type": "display_data",
          "data": {
            "text/plain": [
              "<Figure size 432x288 with 2 Axes>"
            ],
            "image/png": "[encoded data removed]"
          },
          "metadata": {
            "needs_background": "light"
          }
        }
      ]
    },
    {
      "cell_type": "code",
      "source": [
        "sns.scatterplot( data=dados, x='sepal_length', y='petal_width')"
      ],
      "metadata": {
        "colab": {
          "base_uri": "https://localhost:8080/",
          "height": 297
        },
        "id": "RBilFVZZ7xDG",
        "outputId": "c0374ba6-4aa6-4fa4-b3fd-b1693139405d"
      },
      "execution_count": null,
      "outputs": [
        {
          "output_type": "execute_result",
          "data": {
            "text/plain": [
              "<matplotlib.axes._subplots.AxesSubplot at 0x7f839bc36040>"
            ]
          },
          "metadata": {},
          "execution_count": 26
        },
        {
          "output_type": "display_data",
          "data": {
            "text/plain": [
              "<Figure size 432x288 with 1 Axes>"
            ],
            "image/png": "[encoded data removed]"
          },
          "metadata": {
            "needs_background": "light"
          }
        }
      ]
    }
  ]
}